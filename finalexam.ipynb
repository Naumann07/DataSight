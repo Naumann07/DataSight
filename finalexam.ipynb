{
  "nbformat": 4,
  "nbformat_minor": 0,
  "metadata": {
    "colab": {
      "provenance": [],
      "authorship_tag": "ABX9TyO78+J8hSBbGZ4zAmhoSqA1",
      "include_colab_link": true
    },
    "kernelspec": {
      "name": "python3",
      "display_name": "Python 3"
    },
    "language_info": {
      "name": "python"
    },
    "widgets": {
      "application/vnd.jupyter.widget-state+json": {
        "b113e62b6f274a679f0694d4443a0358": {
          "model_module": "@jupyter-widgets/controls",
          "model_name": "FileUploadModel",
          "model_module_version": "1.5.0",
          "state": {
            "_counter": 1,
            "_dom_classes": [],
            "_model_module": "@jupyter-widgets/controls",
            "_model_module_version": "1.5.0",
            "_model_name": "FileUploadModel",
            "_view_count": null,
            "_view_module": "@jupyter-widgets/controls",
            "_view_module_version": "1.5.0",
            "_view_name": "FileUploadView",
            "accept": ".csv",
            "button_style": "",
            "data": [
              null
            ],
            "description": "Upload",
            "description_tooltip": null,
            "disabled": false,
            "error": "",
            "icon": "upload",
            "layout": "IPY_MODEL_ec107d6fe00b4335bb86358aebc282f0",
            "metadata": [
              {
                "name": "tweets.csv",
                "type": "text/csv",
                "size": 1615005,
                "lastModified": 1605207420000
              }
            ],
            "multiple": false,
            "style": "IPY_MODEL_0fb0d0f576fa429fa2be8b7f1b344e25"
          }
        },
        "ec107d6fe00b4335bb86358aebc282f0": {
          "model_module": "@jupyter-widgets/base",
          "model_name": "LayoutModel",
          "model_module_version": "1.2.0",
          "state": {
            "_model_module": "@jupyter-widgets/base",
            "_model_module_version": "1.2.0",
            "_model_name": "LayoutModel",
            "_view_count": null,
            "_view_module": "@jupyter-widgets/base",
            "_view_module_version": "1.2.0",
            "_view_name": "LayoutView",
            "align_content": null,
            "align_items": null,
            "align_self": null,
            "border": null,
            "bottom": null,
            "display": null,
            "flex": null,
            "flex_flow": null,
            "grid_area": null,
            "grid_auto_columns": null,
            "grid_auto_flow": null,
            "grid_auto_rows": null,
            "grid_column": null,
            "grid_gap": null,
            "grid_row": null,
            "grid_template_areas": null,
            "grid_template_columns": null,
            "grid_template_rows": null,
            "height": null,
            "justify_content": null,
            "justify_items": null,
            "left": null,
            "margin": null,
            "max_height": null,
            "max_width": null,
            "min_height": null,
            "min_width": null,
            "object_fit": null,
            "object_position": null,
            "order": null,
            "overflow": null,
            "overflow_x": null,
            "overflow_y": null,
            "padding": null,
            "right": null,
            "top": null,
            "visibility": null,
            "width": null
          }
        },
        "0fb0d0f576fa429fa2be8b7f1b344e25": {
          "model_module": "@jupyter-widgets/controls",
          "model_name": "ButtonStyleModel",
          "model_module_version": "1.5.0",
          "state": {
            "_model_module": "@jupyter-widgets/controls",
            "_model_module_version": "1.5.0",
            "_model_name": "ButtonStyleModel",
            "_view_count": null,
            "_view_module": "@jupyter-widgets/base",
            "_view_module_version": "1.2.0",
            "_view_name": "StyleView",
            "button_color": null,
            "font_weight": ""
          }
        },
        "7156b22b358947abb75cfb6ec54d855f": {
          "model_module": "@jupyter-widgets/controls",
          "model_name": "ButtonModel",
          "model_module_version": "1.5.0",
          "state": {
            "_dom_classes": [],
            "_model_module": "@jupyter-widgets/controls",
            "_model_module_version": "1.5.0",
            "_model_name": "ButtonModel",
            "_view_count": null,
            "_view_module": "@jupyter-widgets/controls",
            "_view_module_version": "1.5.0",
            "_view_name": "ButtonView",
            "button_style": "",
            "description": "Show Summary Statistics",
            "disabled": false,
            "icon": "",
            "layout": "IPY_MODEL_9825737f09ed44b087c1799f2e0cba2e",
            "style": "IPY_MODEL_b22af946815041bd82091fece6de7765",
            "tooltip": ""
          }
        },
        "9825737f09ed44b087c1799f2e0cba2e": {
          "model_module": "@jupyter-widgets/base",
          "model_name": "LayoutModel",
          "model_module_version": "1.2.0",
          "state": {
            "_model_module": "@jupyter-widgets/base",
            "_model_module_version": "1.2.0",
            "_model_name": "LayoutModel",
            "_view_count": null,
            "_view_module": "@jupyter-widgets/base",
            "_view_module_version": "1.2.0",
            "_view_name": "LayoutView",
            "align_content": null,
            "align_items": null,
            "align_self": null,
            "border": null,
            "bottom": null,
            "display": null,
            "flex": null,
            "flex_flow": null,
            "grid_area": null,
            "grid_auto_columns": null,
            "grid_auto_flow": null,
            "grid_auto_rows": null,
            "grid_column": null,
            "grid_gap": null,
            "grid_row": null,
            "grid_template_areas": null,
            "grid_template_columns": null,
            "grid_template_rows": null,
            "height": null,
            "justify_content": null,
            "justify_items": null,
            "left": null,
            "margin": null,
            "max_height": null,
            "max_width": null,
            "min_height": null,
            "min_width": null,
            "object_fit": null,
            "object_position": null,
            "order": null,
            "overflow": null,
            "overflow_x": null,
            "overflow_y": null,
            "padding": null,
            "right": null,
            "top": null,
            "visibility": null,
            "width": null
          }
        },
        "b22af946815041bd82091fece6de7765": {
          "model_module": "@jupyter-widgets/controls",
          "model_name": "ButtonStyleModel",
          "model_module_version": "1.5.0",
          "state": {
            "_model_module": "@jupyter-widgets/controls",
            "_model_module_version": "1.5.0",
            "_model_name": "ButtonStyleModel",
            "_view_count": null,
            "_view_module": "@jupyter-widgets/base",
            "_view_module_version": "1.2.0",
            "_view_name": "StyleView",
            "button_color": null,
            "font_weight": ""
          }
        },
        "1667f83bef4246d79becfc1e5ea8b6da": {
          "model_module": "@jupyter-widgets/controls",
          "model_name": "ButtonModel",
          "model_module_version": "1.5.0",
          "state": {
            "_dom_classes": [],
            "_model_module": "@jupyter-widgets/controls",
            "_model_module_version": "1.5.0",
            "_model_name": "ButtonModel",
            "_view_count": null,
            "_view_module": "@jupyter-widgets/controls",
            "_view_module_version": "1.5.0",
            "_view_name": "ButtonView",
            "button_style": "",
            "description": "Plot Histograms",
            "disabled": false,
            "icon": "",
            "layout": "IPY_MODEL_be9c5c5e42e843fa9c679fc9aefc0ff5",
            "style": "IPY_MODEL_d8a95fc6094041ee925238de4ea35a3d",
            "tooltip": ""
          }
        },
        "be9c5c5e42e843fa9c679fc9aefc0ff5": {
          "model_module": "@jupyter-widgets/base",
          "model_name": "LayoutModel",
          "model_module_version": "1.2.0",
          "state": {
            "_model_module": "@jupyter-widgets/base",
            "_model_module_version": "1.2.0",
            "_model_name": "LayoutModel",
            "_view_count": null,
            "_view_module": "@jupyter-widgets/base",
            "_view_module_version": "1.2.0",
            "_view_name": "LayoutView",
            "align_content": null,
            "align_items": null,
            "align_self": null,
            "border": null,
            "bottom": null,
            "display": null,
            "flex": null,
            "flex_flow": null,
            "grid_area": null,
            "grid_auto_columns": null,
            "grid_auto_flow": null,
            "grid_auto_rows": null,
            "grid_column": null,
            "grid_gap": null,
            "grid_row": null,
            "grid_template_areas": null,
            "grid_template_columns": null,
            "grid_template_rows": null,
            "height": null,
            "justify_content": null,
            "justify_items": null,
            "left": null,
            "margin": null,
            "max_height": null,
            "max_width": null,
            "min_height": null,
            "min_width": null,
            "object_fit": null,
            "object_position": null,
            "order": null,
            "overflow": null,
            "overflow_x": null,
            "overflow_y": null,
            "padding": null,
            "right": null,
            "top": null,
            "visibility": null,
            "width": null
          }
        },
        "d8a95fc6094041ee925238de4ea35a3d": {
          "model_module": "@jupyter-widgets/controls",
          "model_name": "ButtonStyleModel",
          "model_module_version": "1.5.0",
          "state": {
            "_model_module": "@jupyter-widgets/controls",
            "_model_module_version": "1.5.0",
            "_model_name": "ButtonStyleModel",
            "_view_count": null,
            "_view_module": "@jupyter-widgets/base",
            "_view_module_version": "1.2.0",
            "_view_name": "StyleView",
            "button_color": null,
            "font_weight": ""
          }
        },
        "6e72c3085c4f4a5693a9fd51d5f81aaa": {
          "model_module": "@jupyter-widgets/controls",
          "model_name": "DropdownModel",
          "model_module_version": "1.5.0",
          "state": {
            "_dom_classes": [],
            "_model_module": "@jupyter-widgets/controls",
            "_model_module_version": "1.5.0",
            "_model_name": "DropdownModel",
            "_options_labels": [
              "id",
              "keyword",
              "location",
              "text",
              "target"
            ],
            "_view_count": null,
            "_view_module": "@jupyter-widgets/controls",
            "_view_module_version": "1.5.0",
            "_view_name": "DropdownView",
            "description": "Column:",
            "description_tooltip": null,
            "disabled": false,
            "index": 0,
            "layout": "IPY_MODEL_80b6b934ae4542a48f43e5d471c0bfc0",
            "style": "IPY_MODEL_008570c027b04bc7bc277b8cba7b0cc8"
          }
        },
        "80b6b934ae4542a48f43e5d471c0bfc0": {
          "model_module": "@jupyter-widgets/base",
          "model_name": "LayoutModel",
          "model_module_version": "1.2.0",
          "state": {
            "_model_module": "@jupyter-widgets/base",
            "_model_module_version": "1.2.0",
            "_model_name": "LayoutModel",
            "_view_count": null,
            "_view_module": "@jupyter-widgets/base",
            "_view_module_version": "1.2.0",
            "_view_name": "LayoutView",
            "align_content": null,
            "align_items": null,
            "align_self": null,
            "border": null,
            "bottom": null,
            "display": null,
            "flex": null,
            "flex_flow": null,
            "grid_area": null,
            "grid_auto_columns": null,
            "grid_auto_flow": null,
            "grid_auto_rows": null,
            "grid_column": null,
            "grid_gap": null,
            "grid_row": null,
            "grid_template_areas": null,
            "grid_template_columns": null,
            "grid_template_rows": null,
            "height": null,
            "justify_content": null,
            "justify_items": null,
            "left": null,
            "margin": null,
            "max_height": null,
            "max_width": null,
            "min_height": null,
            "min_width": null,
            "object_fit": null,
            "object_position": null,
            "order": null,
            "overflow": null,
            "overflow_x": null,
            "overflow_y": null,
            "padding": null,
            "right": null,
            "top": null,
            "visibility": null,
            "width": null
          }
        },
        "008570c027b04bc7bc277b8cba7b0cc8": {
          "model_module": "@jupyter-widgets/controls",
          "model_name": "DescriptionStyleModel",
          "model_module_version": "1.5.0",
          "state": {
            "_model_module": "@jupyter-widgets/controls",
            "_model_module_version": "1.5.0",
            "_model_name": "DescriptionStyleModel",
            "_view_count": null,
            "_view_module": "@jupyter-widgets/base",
            "_view_module_version": "1.2.0",
            "_view_name": "StyleView",
            "description_width": ""
          }
        },
        "1110ae8a32714705bcc0050e8566fdf2": {
          "model_module": "@jupyter-widgets/output",
          "model_name": "OutputModel",
          "model_module_version": "1.0.0",
          "state": {
            "_dom_classes": [],
            "_model_module": "@jupyter-widgets/output",
            "_model_module_version": "1.0.0",
            "_model_name": "OutputModel",
            "_view_count": null,
            "_view_module": "@jupyter-widgets/output",
            "_view_module_version": "1.0.0",
            "_view_name": "OutputView",
            "layout": "IPY_MODEL_e6a6bf0ce6b342fda4d85c170f8cc55e",
            "msg_id": "",
            "outputs": [
              {
                "output_type": "stream",
                "name": "stdout",
                "text": [
                  "Summary Statistics:\n",
                  "                 id        target\n",
                  "count  11370.000000  11370.000000\n",
                  "mean    5684.500000      0.185928\n",
                  "std     3282.380615      0.389066\n",
                  "min        0.000000      0.000000\n",
                  "25%     2842.250000      0.000000\n",
                  "50%     5684.500000      0.000000\n",
                  "75%     8526.750000      0.000000\n",
                  "max    11369.000000      1.000000\n"
                ]
              }
            ]
          }
        },
        "e6a6bf0ce6b342fda4d85c170f8cc55e": {
          "model_module": "@jupyter-widgets/base",
          "model_name": "LayoutModel",
          "model_module_version": "1.2.0",
          "state": {
            "_model_module": "@jupyter-widgets/base",
            "_model_module_version": "1.2.0",
            "_model_name": "LayoutModel",
            "_view_count": null,
            "_view_module": "@jupyter-widgets/base",
            "_view_module_version": "1.2.0",
            "_view_name": "LayoutView",
            "align_content": null,
            "align_items": null,
            "align_self": null,
            "border": null,
            "bottom": null,
            "display": null,
            "flex": null,
            "flex_flow": null,
            "grid_area": null,
            "grid_auto_columns": null,
            "grid_auto_flow": null,
            "grid_auto_rows": null,
            "grid_column": null,
            "grid_gap": null,
            "grid_row": null,
            "grid_template_areas": null,
            "grid_template_columns": null,
            "grid_template_rows": null,
            "height": null,
            "justify_content": null,
            "justify_items": null,
            "left": null,
            "margin": null,
            "max_height": null,
            "max_width": null,
            "min_height": null,
            "min_width": null,
            "object_fit": null,
            "object_position": null,
            "order": null,
            "overflow": null,
            "overflow_x": null,
            "overflow_y": null,
            "padding": null,
            "right": null,
            "top": null,
            "visibility": null,
            "width": null
          }
        },
        "cd5bca15c27e4f94a32fd716285ef1aa": {
          "model_module": "@jupyter-widgets/output",
          "model_name": "OutputModel",
          "model_module_version": "1.0.0",
          "state": {
            "_dom_classes": [],
            "_model_module": "@jupyter-widgets/output",
            "_model_module_version": "1.0.0",
            "_model_name": "OutputModel",
            "_view_count": null,
            "_view_module": "@jupyter-widgets/output",
            "_view_module_version": "1.0.0",
            "_view_name": "OutputView",
            "layout": "IPY_MODEL_c689689091e94e3aabec835da08140f2",
            "msg_id": "",
            "outputs": [
              {
                "output_type": "display_data",
                "data": {
                  "text/plain": "<Figure size 1200x1000 with 2 Axes>",
                  "image/png": "iVBORw0KGgoAAAANSUhEUgAAA9oAAAORCAYAAAANiNroAAAAOXRFWHRTb2Z0d2FyZQBNYXRwbG90bGliIHZlcnNpb24zLjcuMSwgaHR0cHM6Ly9tYXRwbG90bGliLm9yZy/bCgiHAAAACXBIWXMAAA9hAAAPYQGoP6dpAABo/0lEQVR4nO3de5hVZd0//vdwGkAcEJUZSUQ8pOIhDRKmTE0JUipLn8oiQ7M0wwNSZj6eECyMTC0lTSux0ix70jylTB4z8URZikaapD0a8JgCKjoMzPr90W/21xEUBpYMh9fruuaSfa973fu+P7PZrLdr7bWriqIoAgAAAJSiQ3tPAAAAANYngjYAAACUSNAGAACAEgnaAAAAUCJBGwAAAEokaAMAAECJBG0AAAAokaANAAAAJRK0AQAAoESCNsA6auutt87hhx/e3tPY4L388sv5whe+kLq6ulRVVWXs2LHtPaV2M378+FRVVb1t4x9++OHZeuut37bx38o//vGPVFVVZerUqe3y/ACsWwRtgLXA1KlTU1VVlYceemi52/fdd9/ssssuq/08N998c8aPH7/a4/D/fPOb38zUqVNzzDHH5Kc//WkOO+ywN+279dZbp6qqKscdd9wy2+68885UVVXlV7/61ds53Q3KtddemwMOOCCbbbZZunTpkr59++aTn/xkbr/99vaeGgDrOUEbYB01a9asXHbZZW3a5+abb85ZZ531Ns1ow3T77bdn6NChOfPMM/PZz342gwYNWuE+l112WZ577rk1MLs167TTTsurr77a3tNIURQ54ogjcvDBB2fu3LkZN25cLrnkkowZMyZPPfVU9t9//9x7773tPU0A1mOd2nsCAKya6urq9p5Cm73yyivZaKON2nsapZo3b14GDhy40v133nnnzJo1K+ecc06+973vvY0zW3Nafq+dOnVKp07tf2jxne98J1OnTs3YsWNz3nnntbqc/dRTT81Pf/rTtWKeAKy/nNEGWEe98TPaTU1NOeuss7L99tuna9eu2XTTTbPXXnuloaEhyX8+3zplypQkSVVVVeWnxSuvvJKvfOUr6devX6qrq7PDDjvk3HPPTVEUrZ731VdfzfHHH5/NNtssG2+8cT760Y/m2WefTVVVVavL0ls+r/vYY4/lM5/5TDbZZJPstddeSZK//OUvOfzww7PNNtuka9euqaury+c///n8+9//bvVcLWP87W9/y2c/+9n07Nkzm2++eU4//fQURZF//vOfOeigg1JTU5O6urp85zvfWaZOF154YXbeeed07949m2yySQYPHpyrrrpqhfWdN29ejjzyyNTW1qZr165517velSuuuKKyveVS79mzZ+emm26q1PMf//jHW4679dZb53Of+9xKndV+s88kL++z0FVVVTn22GNzzTXXZODAgenWrVvq6+vzyCOPJEl+8IMfZLvttkvXrl2z7777Lnee999/fz70oQ+lZ8+e6d69e/bZZ5/84Q9/WO5zL+/3+maf0f7Zz36WPffcs/I72HvvvTNt2rTK9t/85jcZOXJk+vbtm+rq6my77baZOHFili5d+pb1WZ5XX301kyZNyo477phzzz13ufM57LDDsueee1YeP/XUU/nEJz6R3r17p3v37hk6dGhuuummFT7Xvvvum3333XeZ9jf+3lo+333uuedmypQp2WabbdK9e/cMHz48//znP1MURSZOnJgtt9wy3bp1y0EHHZQXXnih1Zhbb711PvzhD+eee+7Jnnvuma5du2abbbbJT37yk1b9VvQ+AMCa4X/nAqxFFixYkOeff36Z9qamphXuO378+EyaNClf+MIXsueee2bhwoV56KGH8sc//jEf/OAHc/TRR+e5555LQ0NDfvrTn7batyiKfPSjH80dd9yRI488MrvvvntuvfXWnHTSSXn22Wdz/vnnV/oefvjh+eUvf5nDDjssQ4cOzV133ZWRI0e+6bw+8YlPZPvtt883v/nNSmhvaGjIU089lSOOOCJ1dXWZOXNmLr300sycOTP33XffMuHoU5/6VHbaaaecc845uemmm3L22Wend+/e+cEPfpD99tsv3/rWt3LllVfmq1/9at7znvdk7733TvKfS7SPP/74/Nd//VdOOOGEvPbaa/nLX/6S+++/P5/5zGfedM6vvvpq9t133zz55JM59thjM2DAgFxzzTU5/PDDM3/+/JxwwgnZaaed8tOf/jQnnnhittxyy3zlK19Jkmy++eYr/F2deuqp+clPflL6We3f//73uf766zNmzJgkyaRJk/LhD384X/va1/L9738/X/7yl/Piiy9m8uTJ+fznP9/qs8q33357DjjggAwaNChnnnlmOnTokMsvvzz77bdffv/737cKpsnyf6/Lc9ZZZ2X8+PF573vfmwkTJqRLly65//77c/vtt2f48OFJ/nOPgh49emTcuHHp0aNHbr/99pxxxhlZuHBhvv3tb7epBvfcc09eeOGFjB07Nh07dlxh/7lz5+a9731vFi1alOOPPz6bbrpprrjiinz0ox/Nr371q3z84x9v0/O/lSuvvDKLFy/OcccdlxdeeCGTJ0/OJz/5yey333658847c/LJJ+fJJ5/MhRdemK9+9av58Y9/3Gr/J598Mv/1X/+VI488MqNHj86Pf/zjHH744Rk0aFB23nnnJCt+HwBgDSkAaHeXX355keQtf3beeedW+/Tv378YPXp05fG73vWuYuTIkW/5PGPGjCmW99Z/3XXXFUmKs88+u1X7f/3XfxVVVVXFk08+WRRFUcyYMaNIUowdO7ZVv8MPP7xIUpx55pmVtjPPPLNIUnz6059e5vkWLVq0TNvPf/7zIklx9913LzPGUUcdVWlbsmRJseWWWxZVVVXFOeecU2l/8cUXi27durWqyUEHHbRM3VbGBRdcUCQpfvazn1XaFi9eXNTX1xc9evQoFi5cWGnv37//Cuu+vL5HHHFE0bVr1+K5554riqIo7rjjjiJJcc0111T6jx49uujfv/8y47TU5fWSFNXV1cXs2bMrbT/4wQ+KJEVdXV2rOZ9yyilFkkrf5ubmYvvtty9GjBhRNDc3V/otWrSoGDBgQPHBD35wmede3u/1jfN64oknig4dOhQf//jHi6VLl7bq+8bneaOjjz666N69e/Haa6+tsB6v993vfrdIUlx77bVv2a/F2LFjiyTF73//+0rbSy+9VAwYMKDYeuutK/OePXt2kaS4/PLLK/322WefYp999llmzDfOs2XfzTffvJg/f36lveX38K53vatoamqqtH/6058uunTp0mrt/fv3X+bvx7x584rq6uriK1/5SqVtZd4HAHj7uXQcYC0yZcqUNDQ0LPOz2267rXDfXr16ZebMmXniiSfa/Lw333xzOnbsmOOPP75V+1e+8pUURZHf/va3SZJbbrklSfLlL3+5Vb/l3UW7xZe+9KVl2rp161b582uvvZbnn38+Q4cOTZL88Y9/XKb/F77whcqfO3bsmMGDB6coihx55JGV9l69emWHHXbIU0891artf//3f/Pggw++6fyW5+abb05dXV0+/elPV9o6d+6c448/Pi+//HLuuuuuNo23PKeddlqWLFmSc845Z7XHarH//vu3umR5yJAhSZJDDjkkG2+88TLtLbV6+OGH88QTT+Qzn/lM/v3vf+f555/P888/n1deeSX7779/7r777jQ3N7d6ruX9Xt/ouuuuS3Nzc84444x06ND6kOP1Vy28/vXw0ksv5fnnn8/73//+LFq0KH/9619XcvX/sXDhwiRptd63cvPNN2fPPfesXP6eJD169MhRRx2Vf/zjH3nsscfa9Pxv5ROf+ER69uxZedzye/jsZz/b6jPjQ4YMyeLFi/Pss8+22n/gwIF5//vfX3m8+eabL/c1v6rvAwCUR9AGWIvsueeeGTZs2DI/m2yyyQr3nTBhQubPn593vvOd2XXXXXPSSSflL3/5y0o979NPP52+ffsuE0522mmnyvaW/3bo0CEDBgxo1W+77bZ707Hf2DdJXnjhhZxwwgmpra1Nt27dsvnmm1f6LViwYJn+W221VavHPXv2TNeuXbPZZpst0/7iiy9WHp988snp0aNH9txzz2y//fYZM2bMMp85Xp6nn34622+//TLh8I31WB3bbLNNDjvssFx66aX517/+tdrjJcuvU5L069dvue0ttWoJZaNHj87mm2/e6ueHP/xhGhsbl/m9LO/3+kZ///vf06FDhxXeLG7mzJn5+Mc/np49e6ampiabb755PvvZzyZZ/uvhrdTU1CT5T2BfGU8//XR22GGHZdrL/F23WNXfz5vtnySbbLJJq36r8z4AQHkEbYD1xN57752///3v+fGPf5xddtklP/zhD/Pud787P/zhD9t1Xq8/W9nik5/8ZC677LJ86Utfyq9//etMmzatcrb8jWdOkyz3s7Zv9vnb4nWfF95pp50ya9asXH311dlrr73yP//zP9lrr71y5plnrupySnXqqadmyZIl+da3vrXc7cu7kVeSN71J2JvVZEW1aqn5t7/97eVeUdHQ0JAePXq02nd5v9dVMX/+/Oyzzz7585//nAkTJuSGG25IQ0NDpSbLez28lR133DFJKjeBezutqd9PW/qtre8DABsaN0MDWI/07t07RxxxRI444oi8/PLL2XvvvTN+/PjKpddvFgz69++f3/3ud3nppZdandVuuWy3f//+lf82Nzdn9uzZ2X777Sv9nnzyyZWe44svvpjbbrstZ511Vs4444xK+9t1qetGG22UT33qU/nUpz6VxYsX5+CDD843vvGNnHLKKenatety9+nfv3/+8pe/pLm5udVZ7TfWY3Vtu+22+exnP5sf/OAHlcuIX2+TTTbJ/Pnzl2kv8yxryzyS/5wNHjZsWKnjNjc357HHHsvuu+++3D533nln/v3vf+fXv/515SZ2STJ79uxVes699torm2yySX7+85/nv//7v1d4Q7T+/ftn1qxZy7SvzO96k002aXXZdouyfz9ttaL3AQDefs5oA6wn3vjVWD169Mh2222XxsbGSlvLd1i/MbwdeOCBWbp0aS666KJW7eeff36qqqpywAEHJElGjBiRJPn+97/fqt+FF1640vNsCT5vPFt3wQUXrPQYK+uNNenSpUsGDhyYoije8k7uBx54YObMmZNf/OIXlbYlS5bkwgsvTI8ePbLPPvuUNsfTTjstTU1NmTx58jLbtt122yxYsKDVpb//+te/cu2115b2/EkyaNCgbLvttjn33HPz8ssvL7P9//7v/1Zp3I997GPp0KFDJkyYsMyZ6Zbf//JeD4sXL17mNbayunfvnpNPPjmPP/54Tj755OXeEf1nP/tZHnjggST/+V0/8MADmT59emX7K6+8kksvvTRbb731W172vu222+avf/1rq/r8+c9/XqmPJ7xdVuZ9AIC3nzPaAOuJgQMHZt99982gQYPSu3fvPPTQQ/nVr36VY489ttJn0KBBSZLjjz8+I0aMSMeOHXPooYfmIx/5SD7wgQ/k1FNPzT/+8Y+8613vyrRp0/Kb3/wmY8eOrZzxHDRoUA455JBccMEF+fe//135eq+//e1vSd78jPnr1dTUZO+9987kyZPT1NSUd7zjHZk2bdoqn8F8K8OHD09dXV3e9773pba2No8//nguuuiijBw58i1vlnXUUUflBz/4QQ4//PDMmDEjW2+9dX71q1/lD3/4Qy644IKVvtHWymg5q/367+huceihh+bkk0/Oxz/+8Rx//PFZtGhRLr744rzzne9c7k3jVlWHDh3ywx/+MAcccEB23nnnHHHEEXnHO96RZ599NnfccUdqampyww03tHnc7bbbLqeeemomTpyY97///Tn44INTXV2dBx98MH379s2kSZPy3ve+N5tssklGjx6d448/PlVVVfnpT3/6ll8ZtiInnXRSZs6cme985zu544478l//9V+pq6vLnDlzct111+WBBx7IvffemyT5+te/np///Oc54IADcvzxx6d379654oorMnv27PzP//zPMp/Tf73Pf/7zOe+88zJixIgceeSRmTdvXi655JLsvPPOlZuyrWkr8z4AwNtP0AZYTxx//PG5/vrrM23atDQ2NqZ///45++yzc9JJJ1X6HHzwwTnuuONy9dVX52c/+1mKosihhx6aDh065Prrr88ZZ5yRX/ziF7n88suz9dZb59vf/nbl+6Fb/OQnP0ldXV1+/vOf59prr82wYcPyi1/8IjvssMObXor9RldddVWOO+64TJkyJUVRZPjw4fntb3+bvn37llqTo48+OldeeWXOO++8vPzyy9lyyy1z/PHH57TTTnvL/bp165Y777wzX//613PFFVdk4cKF2WGHHXL55Zfn8MMPL3WOyX/Oav/sZz9b5rO9m266aa699tqMGzcuX/va1zJgwIBMmjQpTzzxRKlBO0n23XffTJ8+PRMnTsxFF12Ul19+OXV1dRkyZEiOPvroVR53woQJGTBgQC688MKceuqp6d69e3bbbbccdthhSf6zxhtvvDFf+cpXctppp2WTTTbJZz/72ey///6VKyjaqkOHDvnJT36Sgw46KJdeemnOPffcLFy4MJtvvnnlf/LU19cnSWpra3Pvvffm5JNPzoUXXpjXXnstu+22W2644Ya3/H745D/3APjJT36SM844I+PGjcvAgQPz05/+NFdddVXuvPPOVZr76lqZ9wEA3n5Vxer8L2MAyH++HmqPPfbIz372s4waNaq9pwMA0K58RhuANnn11VeXabvgggvSoUOHVjezAgDYULl0HIA2mTx5cmbMmJEPfOAD6dSpU37729/mt7/9bY466qhlvg8YAGBD5NJxANqkoaEhZ511Vh577LG8/PLL2WqrrXLYYYfl1FNPTadO/v8tAICgDQAAACXyGW0AAAAokaANAAAAJRK0AQAAoESCNgAAAJRI0AYAAIASCdoAAABQIkEbAAAASiRoAwAAQIkEbQAAACiRoA0AAAAlErQBAACgRII2AAAAlEjQBgAAgBIJ2gAAAFAiQRsAAABKJGgDAABAiQRtAAAAKJGgDQAAACUStAEAAKBEgjYAAACUSNAGAACAEgnaAAAAUCJBGwAAAEokaAMAAECJBG0AAAAokaANAAAAJRK0AQAAoESCNgAAAJRI0AYAAIASCdoAAABQIkEbAAAASiRoAwAAQIkEbQAAACiRoA0AAAAlErQBAACgRII2AAAAlEjQBgAAgBIJ2gAAAFAiQRsAAABKJGgDAABAiQRtAAAAKJGgDQAAACUStAEAAKBEgjYAAACUSNAGAACAEgnaAAAAUCJBGwAAAEokaAMAAECJBG0AAAAokaANAAAAJRK0AQAAoESCNgAAAJRI0AYAAIASCdoAAABQIkEbAAAASiRoAwAAQIkEbQAAACiRoA0AAAAlErQBAACgRII2rAemTp2aqqqq/OMf/3jLfltvvXUOP/zwNTInAADYUAnaAACwDrj33nszfvz4zJ8/v72nskLr0lzh7SBow3rgsMMOy6uvvpr+/fu391QAgLfJvffem7POOmudCK/r0lzh7SBow3qgY8eO6dq1a6qqqtp7KgDAOqIoirz66qvtPQ1YLwnasB5442e0i6LI2WefnS233DLdu3fPBz7wgcycObN9JwkArLLx48fnpJNOSpIMGDAgVVVVlX/7L7/88uy3337p06dPqqurM3DgwFx88cXLjLH11lvnwx/+cG699dYMHjw43bp1yw9+8IMkydNPP52PfvSj2WijjdKnT5+ceOKJufXWW1NVVZU777yz1Tj3339/PvShD6Vnz57p3r179tlnn/zhD39YqbnChqJTe08AKN8ZZ5yRs88+OwceeGAOPPDA/PGPf8zw4cOzePHi9p4aALAKDj744Pztb3/Lz3/+85x//vnZbLPNkiSbb755Lr744uy888756Ec/mk6dOuWGG27Il7/85TQ3N2fMmDGtxpk1a1Y+/elP5+ijj84Xv/jF7LDDDnnllVey33775V//+ldOOOGE1NXV5aqrrsodd9yxzDxuv/32HHDAARk0aFDOPPPMdOjQoRL0f//732fPPfd8y7nChqKqKIqivScBrJ6pU6fmiCOOyOzZs7PRRhtlyy23zAc/+MHccMMNlcvJTz311Hzzm9/M6NGjM3Xq1PadMADQZueee25OOumkzJ49O1tvvXWl/dVXX023bt1a9f3Qhz6UJ554In//+98rbVtvvXWefvrp3HLLLRkxYkSl/bzzzstXvvKVXHfddTnooIOSJK+99lr22GOP/PWvf80dd9yRfffdN0VRZIcddsg222yT3/72t5VjjFdffTU777xztttuu0ybNu0t5wobCpeOw3rmd7/7XRYvXpzjjjuu1We2x44d236TAgDeNq8P2QsWLMjzzz+fffbZJ0899VQWLFjQqu+AAQNahewkueWWW/KOd7wjH/3oRyttXbt2zRe/+MVW/R5++OE88cQT+cxnPpN///vfef755/P888/nlVdeyf7775+77747zc3Nb8MKYd3j0nFYzzz99NNJku23375V++abb55NNtmkPaYEALyN/vCHP+TMM8/M9OnTs2jRolbbFixYkJ49e1YeDxgwYJn9n3766Wy77bbL3FR1u+22a/X4iSeeSJKMHj36TeeyYMECxxsQQRsAANZZf//737P//vtnxx13zHnnnZd+/fqlS5cuufnmm3P++ecvc4b5jZeYt0XLWN/+9rez++67L7dPjx49Vnl8WJ8I2rCeafku7SeeeCLbbLNNpf3//u//8uKLL7bXtACA1bS8r/G84YYb0tjYmOuvvz5bbbVVpX15NzJ7M/37989jjz2WoihaPceTTz7Zqt+2226bJKmpqcmwYcPaPFfYkPiMNqxnhg0bls6dO+fCCy/M6+91eMEFF7TfpACA1bbRRhslSebPn19p69ixY5K0+jd/wYIFufzyy1d63BEjRuTZZ5/N9ddfX2l77bXXctlll7XqN2jQoGy77bY599xz8/LLLy8zzv/93/+95VxhQ+KMNqxnNt9883z1q1/NpEmT8uEPfzgHHnhg/vSnP+W3v/1t5es1AIB1z6BBg5L855tEDj300HTu3Dl77713unTpko985CM5+uij8/LLL+eyyy5Lnz598q9//Wulxj366KNz0UUX5dOf/nROOOGEbLHFFrnyyivTtWvXJP/v7HSHDh3ywx/+MAcccEB23nnnHHHEEXnHO96RZ599NnfccUdqampyww03vOlcP/KRj1QCOKzvBG1YD5199tnp2rVrLrnkktxxxx0ZMmRIpk2blpEjR7b31ACAVfSe97wnEydOzCWXXJJbbrklzc3NmT17dn71q1/ltNNOy1e/+tXU1dXlmGOOyeabb57Pf/7zKzVujx49cvvtt+e4447Ld7/73fTo0SOf+9zn8t73vjeHHHJIJXAnyb777pvp06dn4sSJueiii/Lyyy+nrq4uQ4YMydFHH73CuQrabCh8jzYAALCMCy64ICeeeGL+93//N+94xzvaezqwThG0AQBgA/fqq6+2uiP5a6+9lj322CNLly7N3/72t3acGaybXDoOAAAbuIMPPjhbbbVVdt999yxYsCA/+9nP8te//jVXXnlle08N1kmCNgAAbOBGjBiRH/7wh7nyyiuzdOnSDBw4MFdffXU+9alPtffUYJ3k0nEAAAAoke/RBgAAgBKtk5eONzc357nnnsvGG29c+V4/AGiroijy0ksvpW/fvunQwf97Xl85bgCgDG05blgng/Zzzz2Xfv36tfc0AFhP/POf/8yWW27Z3tPgbeK4AYAyrcxxwzoZtDfeeOMk/1lgTU3NKo/T1NSUadOmZfjw4encuXNZ01unqIEabOjrT9Qg2XBrsHDhwvTr16/y7wrrJ8cNa5Y6rZgarRx1WjE1Wjll1aktxw3rZNBuueyrpqZmtf/B7N69e2pqajbYF6YaqMGGvv5EDRI1cDnx+s1xw5qlTiumRitHnVZMjVZO2XVameMGH0gDAACAEgnaAAAAUCJBGwAAAEokaAMAAECJBG0AAAAokaANAAAAJRK0AQAAoESCNgAAAJRI0AYAAIASCdoAAABQIkEbAAAASiRoAwAAQIkEbQAAACiRoA0AAAAlErQBAACgRII2AAAAlEjQBgAAgBIJ2gAAAFAiQRsAAABKJGgDAABAiQRtAAAAKJGgDQAAACUStAEAAKBEgjYAAACUSNAGAACAEgnaAAAAUCJBGwAAAEokaAMAAECJBG0AAAAokaANAAAAJRK0AQAAoESCNgAAAJRI0AYAAIASCdoAAABQok7tPYG1wS7jb03j0qrVHucf54wsYTbJ1l+/qZRxkrVvTmXNJylvTk9MHF7KOMnaWaeyrG1rK/PvSVmvgXX57251xyKT93zz98O18e/u2vj3hA3D2nbcAMDaR9AuUZkH2WVZ0ZxWdHC9pufTHnYZf+sarcHKWJN18hrwGlgZa9t8AADWZi4dBwAAgBIJ2gAAAFAiQRsAAABKJGgDAABAiQRtAAAAKJGgDQAAACUStAEAAKBEgjYAAACUSNAGAACAEgnaAAAAUCJBGwAAAEokaAMAAECJBG0AAAAokaANAAAAJRK0AQAAoESCNgAAAJRI0AYAAIASCdoAAABQIkEbAAAASiRoAwAAQIkEbQAAACiRoA0AAAAlErQBAACgRII2AAAAlEjQBgAAgBIJ2gAAAFAiQRsAAABKJGgDAABAiQRtAAAAKJGgDQAAACUStAEAAKBEgjYAAACUSNAGAACAEgnaAAAAUCJBGwAAAEokaAMAAECJBG0AAAAokaANAAAAJRK0AQAAoESCNgAAAJRI0AYAAIASCdoAAABQIkEbAAAASiRoAwAAQIkEbQAAACiRoA0AAAAlErQBAACgRII2AAAAlEjQBgAAgBIJ2gAAAFAiQRsAAABKJGgDAABAiQRtAAAAKJGgDQAAACUStAEAAKBEgjYAAACUSNAGAACAEgnaAAAAUCJBGwAAAEokaAMAAECJBG0AAAAokaANAAAAJRK0AQAAoESCNgAAAJRI0AYAAIASCdoAAABQIkEbAAAASiRoAwAAQIkEbQAAACiRoA0AAAAlErQBAACgRII2AAAAlEjQBgAAgBIJ2gAAAFAiQRsAAABKJGgDAABAiQRtAAAAKJGgDQAAACUStAEAAKBEgjYAAACUSNAGAACAEgnaAAAAUCJBGwAAAErUpqA9fvz4VFVVtfrZcccdK9tfe+21jBkzJptuuml69OiRQw45JHPnzm01xjPPPJORI0eme/fu6dOnT0466aQsWbKknNUAAABAO+vU1h123nnn/O53v/t/A3T6f0OceOKJuemmm3LNNdekZ8+eOfbYY3PwwQfnD3/4Q5Jk6dKlGTlyZOrq6nLvvffmX//6Vz73uc+lc+fO+eY3v1nCcgAAAKB9tTlod+rUKXV1dcu0L1iwID/60Y9y1VVXZb/99kuSXH755dlpp51y3333ZejQoZk2bVoee+yx/O53v0ttbW123333TJw4MSeffHLGjx+fLl26rP6KAAAAoB21OWg/8cQT6du3b7p27Zr6+vpMmjQpW221VWbMmJGmpqYMGzas0nfHHXfMVlttlenTp2fo0KGZPn16dt1119TW1lb6jBgxIsccc0xmzpyZPfbYY7nP2djYmMbGxsrjhQsXJkmamprS1NTU1iVUtOxb3aFY5THWdS1rV4MNtwYb+voTNUjWzRqszvt/mWMAALxRm4L2kCFDMnXq1Oywww7517/+lbPOOivvf//78+ijj2bOnDnp0qVLevXq1Wqf2trazJkzJ0kyZ86cViG7ZXvLtjczadKknHXWWcu0T5s2Ld27d2/LEpZr4uDm1R5jXacGarChrz9Rg2TdqsHNN9+82mMsWrSohJkAALTWpqB9wAEHVP682267ZciQIenfv39++ctfplu3bqVPrsUpp5yScePGVR4vXLgw/fr1y/Dhw1NTU7PK4zY1NaWhoSGnP9Qhjc1VZUx1nVPdocjEwc1qsAHXYENff6IGybpZg0fHj1jtMVqukAIAKFObLx1/vV69euWd73xnnnzyyXzwgx/M4sWLM3/+/FZntefOnVv5THddXV0eeOCBVmO03JV8eZ/7blFdXZ3q6upl2jt37pzOnTuvzhKSJI3NVWlcum4cWL5d1EANNvT1J2qQrFs1KOP9v4wxAADeaLW+R/vll1/O3//+92yxxRYZNGhQOnfunNtuu62yfdasWXnmmWdSX1+fJKmvr88jjzySefPmVfo0NDSkpqYmAwcOXJ2pAAAAwFqhTWe0v/rVr+YjH/lI+vfvn+eeey5nnnlmOnbsmE9/+tPp2bNnjjzyyIwbNy69e/dOTU1NjjvuuNTX12fo0KFJkuHDh2fgwIE57LDDMnny5MyZMyennXZaxowZs9wz1gAAALCuaVPQ/t///d98+tOfzr///e9svvnm2WuvvXLfffdl8803T5Kcf/756dChQw455JA0NjZmxIgR+f73v1/Zv2PHjrnxxhtzzDHHpL6+PhtttFFGjx6dCRMmlLsqAAAAaCdtCtpXX331W27v2rVrpkyZkilTprxpn/79+5dyp1gAAABYG63WZ7QBgA3T0qVLc/rpp2fAgAHp1q1btt1220ycODFF8f++i70oipxxxhnZYost0q1btwwbNixPPPFEq3FeeOGFjBo1KjU1NenVq1eOPPLIvPzyy636/OUvf8n73//+dO3aNf369cvkyZPXyBoBYFUJ2gBAm33rW9/KxRdfnIsuuiiPP/54vvWtb2Xy5Mm58MILK30mT56c733ve7nkkkty//33Z6ONNsqIESPy2muvVfqMGjUqM2fOTENDQ2688cbcfffdOeqooyrbFy5cmOHDh6d///6ZMWNGvv3tb2f8+PG59NJL1+h6AaAtVuvrvQCADdO9996bgw46KCNHjkySbL311vn5z39e+RrPoihywQUX5LTTTstBBx2UJPnJT36S2traXHfddTn00EPz+OOP55ZbbsmDDz6YwYMHJ0kuvPDCHHjggTn33HPTt2/fXHnllVm8eHF+/OMfp0uXLtl5553z8MMP57zzzmsVyF+vsbExjY2Nlcct35fe1NSUpqamVV5zy77VHYoV9GzbeOublnWtr+srgxqtHHVaMTVaOWXVqS37C9oAQJu9973vzaWXXpq//e1veec735k///nPueeee3LeeeclSWbPnp05c+Zk2LBhlX169uyZIUOGZPr06Tn00EMzffr09OrVqxKyk2TYsGHp0KFD7r///nz84x/P9OnTs/fee6dLly6VPiNGjMi3vvWtvPjii9lkk02WmdukSZNy1llnLdM+bdq0dO/efbXXPnFw82qPkWS9v2dNQ0NDe09hradGK0edVkyNVs7q1mnRokUr3VfQBgDa7Otf/3oWLlyYHXfcMR07dszSpUvzjW98I6NGjUqSzJkzJ0lSW1vbar/a2trKtjlz5qRPnz6ttnfq1Cm9e/du1WfAgAHLjNGybXlB+5RTTsm4ceMqjxcuXJh+/fpl+PDhqampWeU1NzU1paGhIac/1CGNzVWrPE6LR8ePWO0x1kYtdfrgBz+Yzp07t/d01kpqtHLUacXUaOWUVaeWK6RWhqANALTZL3/5y1x55ZW56qqrKpdzjx07Nn379s3o0aPbdW7V1dWprq5epr1z586lHIg2NlelcenqB+31/aC4rHqvz9Ro5ajTiqnRylndOrVlX0EbAGizk046KV//+tdz6KGHJkl23XXXPP3005k0aVJGjx6durq6JMncuXOzxRZbVPabO3dudt999yRJXV1d5s2b12rcJUuW5IUXXqjsX1dXl7lz57bq0/K4pQ8ArG3cdRwAaLNFixalQ4fWhxEdO3ZMc/N/Pr88YMCA1NXV5bbbbqtsX7hwYe6///7U19cnSerr6zN//vzMmDGj0uf2229Pc3NzhgwZUulz9913t7oBTUNDQ3bYYYflXjYOAGsDQRsAaLOPfOQj+cY3vpGbbrop//jHP3LttdfmvPPOy8c//vEkSVVVVcaOHZuzzz47119/fR555JF87nOfS9++ffOxj30sSbLTTjvlQx/6UL74xS/mgQceyB/+8Icce+yxOfTQQ9O3b98kyWc+85l06dIlRx55ZGbOnJlf/OIX+e53v9vqM9gAsLZx6TgA0GYXXnhhTj/99Hz5y1/OvHnz0rdv3xx99NE544wzKn2+9rWv5ZVXXslRRx2V+fPnZ6+99sott9ySrl27VvpceeWVOfbYY7P//vunQ4cOOeSQQ/K9732vsr1nz56ZNm1axowZk0GDBmWzzTbLGWec8aZf7QUAawNBGwBos4033jgXXHBBLrjggjftU1VVlQkTJmTChAlv2qd379656qqr3vK5dtttt/z+979f1akCwBrn0nEAAAAokaANAAAAJRK0AQAAoESCNgAAAJRI0AYAAIASCdoAAABQIkEbAAAASiRoAwAAQIkEbQAAACiRoA0AAAAlErQBAACgRII2AAAAlEjQBgAAgBIJ2gAAAFAiQRsAAABKJGgDAABAiQRtAAAAKJGgDQAAACUStAEAAKBEgjYAAACUSNAGAACAEgnaAAAAUCJBGwAAAEokaAMAAECJBG0AAAAokaANAAAAJRK0AQAAoESCNgAAAJRI0AYAAIASCdoAAABQIkEbAAAASiRoAwAAQIkEbQAAACiRoA0AAAAlErQBAACgRII2AAAAlEjQBgAAgBIJ2gAAAFAiQRsAAABKJGgDAABAiQRtAAAAKJGgDQAAACUStAEAAKBEgjYAAACUSNAGAACAEgnaAAAAUCJBGwAAAEokaAMAAECJBG0AAAAokaANAAAAJRK0AQAAoESCNgAAAJRI0AYAAIASCdoAAABQIkEbAAAASiRoAwAAQIkEbQAAACiRoA0AAAAlErQBAACgRII2AAAAlEjQBgAAgBIJ2gAAAFAiQRsAAABKJGgDAABAiQRtAAAAKJGgDQAAACUStAEAAKBEgjYAAACUSNAGAACAEgnaAAAAUCJBGwAAAEokaAMAAECJBG0AAAAokaANAAAAJRK0AQAAoESCNgAAAJRI0AYAAIASCdoAAABQIkEbAAAASiRoAwAAQIkEbQAAACiRoA0AAAAlErQBAACgRII2AAAAlEjQBgAAgBIJ2gAAAFAiQRsAAABKJGgDAABAiQRtAAAAKJGgDQAAACUStAEAAKBEgjYAAACUSNAGAACAEgnaAAAAUCJBGwAAAEokaAMAAECJBG0AAAAokaANAAAAJRK0AQAAoESCNgAAAJRI0AYAAIASCdoAAABQIkEbAAAASiRoAwAAQIkEbQAAACiRoA0AAAAlErQBAACgRKsVtM8555xUVVVl7NixlbbXXnstY8aMyaabbpoePXrkkEMOydy5c1vt98wzz2TkyJHp3r17+vTpk5NOOilLlixZnakAAADAWmGVg/aDDz6YH/zgB9ltt91atZ944om54YYbcs011+Suu+7Kc889l4MPPriyfenSpRk5cmQWL16ce++9N1dccUWmTp2aM844Y9VXAQAAAGuJVQraL7/8ckaNGpXLLrssm2yySaV9wYIF+dGPfpTzzjsv++23XwYNGpTLL7889957b+67774kybRp0/LYY4/lZz/7WXbfffcccMABmThxYqZMmZLFixeXsyoAAABoJ51WZacxY8Zk5MiRGTZsWM4+++xK+4wZM9LU1JRhw4ZV2nbcccdstdVWmT59eoYOHZrp06dn1113TW1tbaXPiBEjcswxx2TmzJnZY489lnm+xsbGNDY2Vh4vXLgwSdLU1JSmpqZVWUJl/ySp7lCs8hjrupa1q8GGW4MNff2JGiTrZg1W5/2/zDEAAN6ozUH76quvzh//+Mc8+OCDy2ybM2dOunTpkl69erVqr62tzZw5cyp9Xh+yW7a3bFueSZMm5ayzzlqmfdq0aenevXtbl7CMiYObV3uMdZ0aqMGGvv5EDZJ1qwY333zzao+xaNGiEmYCANBam4L2P//5z5xwwglpaGhI165d3645LeOUU07JuHHjKo8XLlyYfv36Zfjw4ampqVnlcZuamtLQ0JDTH+qQxuaqMqa6zqnuUGTi4GY12IBrsKGvP1GDZN2swaPjR6z2GC1XSAEAlKlNQXvGjBmZN29e3v3ud1fali5dmrvvvjsXXXRRbr311ixevDjz589vdVZ77ty5qaurS5LU1dXlgQceaDVuy13JW/q8UXV1daqrq5dp79y5czp37tyWJSxXY3NVGpeuGweWbxc1UIMNff2JGiTrVg3KeP8vYwwAgDdq083Q9t9//zzyyCN5+OGHKz+DBw/OqFGjKn/u3Llzbrvttso+s2bNyjPPPJP6+vokSX19fR555JHMmzev0qehoSE1NTUZOHBgScsCAACA9tGmM9obb7xxdtlll1ZtG220UTbddNNK+5FHHplx48ald+/eqampyXHHHZf6+voMHTo0STJ8+PAMHDgwhx12WCZPnpw5c+bktNNOy5gxY5Z71hoAAADWJat01/G3cv7556dDhw455JBD0tjYmBEjRuT73/9+ZXvHjh1z44035phjjkl9fX022mijjB49OhMmTCh7KgAAALDGrXbQvvPOO1s97tq1a6ZMmZIpU6a86T79+/cv5W6xAAAAsLZp02e0AQAAgLcmaAMAAECJBG0AAAAokaANAAAAJRK0AQAAoESCNgAAAJRI0AYAAIASCdoAAABQIkEbAAAASiRoAwAAQIkEbQAAACiRoA0AAAAlErQBAACgRII2AAAAlEjQBgAAgBIJ2gAAAFAiQRsAAABKJGgDAABAiQRtAAAAKJGgDQAAACUStAEAAKBEgjYAAACUSNAGAACAEgnaAAAAUCJBGwAAAEokaAMAAECJBG0AAAAokaANAAAAJRK0AQAAoESCNgCwSp599tl89rOfzaabbppu3bpl1113zUMPPVTZXhRFzjjjjGyxxRbp1q1bhg0blieeeKLVGC+88EJGjRqVmpqa9OrVK0ceeWRefvnlVn3+8pe/5P3vf3+6du2afv36ZfLkyWtkfQCwqgRtAKDNXnzxxbzvfe9L586d89vf/jaPPfZYvvOd72STTTap9Jk8eXK+973v5ZJLLsn999+fjTbaKCNGjMhrr71W6TNq1KjMnDkzDQ0NufHGG3P33XfnqKOOqmxfuHBhhg8fnv79+2fGjBn59re/nfHjx+fSSy9do+sFgLbo1N4TAADWPd/61rfSr1+/XH755ZW2AQMGVP5cFEUuuOCCnHbaaTnooIOSJD/5yU9SW1ub6667Loceemgef/zx3HLLLXnwwQczePDgJMmFF16YAw88MOeee2769u2bK6+8MosXL86Pf/zjdOnSJTvvvHMefvjhnHfeea0COQCsTQRtAKDNrr/++owYMSKf+MQnctddd+Ud73hHvvzlL+eLX/xikmT27NmZM2dOhg0bVtmnZ8+eGTJkSKZPn55DDz0006dPT69evSohO0mGDRuWDh065P7778/HP/7xTJ8+PXvvvXe6dOlS6TNixIh861vfyosvvtjqDHqLxsbGNDY2Vh4vXLgwSdLU1JSmpqZVXnPLvtUdilUeY3njrW9a1rW+rq8MarRy1GnF1GjllFWntuwvaAMAbfbUU0/l4osvzrhx4/Lf//3fefDBB3P88cenS5cuGT16dObMmZMkqa2tbbVfbW1tZducOXPSp0+fVts7deqU3r17t+rz+jPlrx9zzpw5yw3akyZNyllnnbVM+7Rp09K9e/dVXPH/M3Fw82qPkSQ333xzKeOsrRoaGtp7Cms9NVo56rRiarRyVrdOixYtWum+gjYA0GbNzc0ZPHhwvvnNbyZJ9thjjzz66KO55JJLMnr06Had2ymnnJJx48ZVHi9cuDD9+vXL8OHDU1NTs8rjNjU1paGhIac/1CGNzVWrPc9Hx49Y7THWRi11+uAHP5jOnTu393TWSmq0ctRpxdRo5ZRVp5YrpFaGoA0AtNkWW2yRgQMHtmrbaaed8j//8z9Jkrq6uiTJ3Llzs8UWW1T6zJ07N7vvvnulz7x581qNsWTJkrzwwguV/evq6jJ37txWfVoet/R5o+rq6lRXVy/T3rlz51IORBubq9K4dPWD9vp+UFxWvddnarRy1GnF1GjlrG6d2rKvu44DAG32vve9L7NmzWrV9re//S39+/dP8p8bo9XV1eW2226rbF+4cGHuv//+1NfXJ0nq6+szf/78zJgxo9Ln9ttvT3Nzc4YMGVLpc/fdd7f6XFxDQ0N22GGH5V42DgBrA0EbAGizE088Mffdd1+++c1v5sknn8xVV12VSy+9NGPGjEmSVFVVZezYsTn77LNz/fXX55FHHsnnPve59O3bNx/72MeS/OcM+Ic+9KF88YtfzAMPPJA//OEPOfbYY3PooYemb9++SZLPfOYz6dKlS4488sjMnDkzv/jFL/Ld73631aXhALC2cek4ANBm73nPe3LttdfmlFNOyYQJEzJgwIBccMEFGTVqVKXP1772tbzyyis56qijMn/+/Oy111655ZZb0rVr10qfK6+8Mscee2z233//dOjQIYcccki+973vVbb37Nkz06ZNy5gxYzJo0KBsttlmOeOMM3y1FwBrNUEbAFglH/7wh/PhD3/4TbdXVVVlwoQJmTBhwpv26d27d6666qq3fJ7ddtstv//971d5ngCwprl0HAAAAEokaAMAAECJBG0AAAAokaANAAAAJRK0AQAAoESCNgAAAJRI0AYAAIASCdoAAABQIkEbAAAASiRoAwAAQIkEbQAAACiRoA0AAAAlErQBAACgRII2AAAAlEjQBgAAgBIJ2gAAAFAiQRsAAABKJGgDAABAiQRtAAAAKJGgDQAAACUStAEAAKBEgjYAAACUSNAGAACAEgnaAAAAUCJBGwAAAEokaAMAAECJBG0AAAAokaANAAAAJRK0AQAAoESCNgAAAJRI0AYAAIASCdoAAABQIkEbAAAASiRoAwAAQIkEbQAAACiRoA0AAAAlErQBAACgRII2AAAAlEjQBgAAgBIJ2gAAAFAiQRsAAABKJGgDAABAiQRtAAAAKJGgDQAAACUStAEAAKBEgjYAAACUSNAGAACAEgnaAAAAUCJBGwAAAEokaAMAAECJBG0AAAAokaANAAAAJRK0AQAAoESCNgAAAJRI0AYAAIASCdoAAABQIkEbAAAASiRoAwAAQIkEbQAAACiRoA0AAAAlErQBAACgRII2AAAAlEjQBgAAgBIJ2gAAAFAiQRsAAABKJGgDAABAiQRtAAAAKJGgDQAAACUStAEAAKBEgjYAAACUSNAGAACAEgnaAAAAUCJBGwAAAEokaAMAAECJBG0AAAAokaANAAAAJRK0AQAAoESCNgAAAJSoTUH74osvzm677ZaamprU1NSkvr4+v/3tbyvbX3vttYwZMyabbrppevTokUMOOSRz585tNcYzzzyTkSNHpnv37unTp09OOumkLFmypJzVAAAAQDtrU9Decsstc84552TGjBl56KGHst9+++Wggw7KzJkzkyQnnnhibrjhhlxzzTW566678txzz+Xggw+u7L906dKMHDkyixcvzr333psrrrgiU6dOzRlnnFHuqgAAAKCddGpL54985COtHn/jG9/IxRdfnPvuuy9bbrllfvSjH+Wqq67KfvvtlyS5/PLLs9NOO+W+++7L0KFDM23atDz22GP53e9+l9ra2uy+++6ZOHFiTj755IwfPz5dunQpb2UAAADQDtoUtF9v6dKlueaaa/LKK6+kvr4+M2bMSFNTU4YNG1bps+OOO2arrbbK9OnTM3To0EyfPj277rpramtrK31GjBiRY445JjNnzswee+yx3OdqbGxMY2Nj5fHChQuTJE1NTWlqalrVJVT2re5QrPIY67qWtavBhluDDX39iRok62YNVuf9v8wxAADeqM1B+5FHHkl9fX1ee+219OjRI9dee20GDhyYhx9+OF26dEmvXr1a9a+trc2cOXOSJHPmzGkVslu2t2x7M5MmTcpZZ521TPu0adPSvXv3ti5hGRMHN6/2GOs6NVCDDX39iRok61YNbr755tUeY9GiRSXMBACgtTYH7R122CEPP/xwFixYkF/96lcZPXp07rrrrrdjbhWnnHJKxo0bV3m8cOHC9OvXL8OHD09NTc0qj9vU1JSGhoac/lCHNDZXlTHVdU51hyITBzerwQZcgw19/YkaJOtmDR4dP2K1x2i5QgoAoExtDtpdunTJdtttlyQZNGhQHnzwwXz3u9/Npz71qSxevDjz589vdVZ77ty5qaurS5LU1dXlgQceaDVey13JW/osT3V1daqrq5dp79y5czp37tzWJSyjsbkqjUvXjQPLt4saqMGGvv5EDZJ1qwZlvP+XMQYAwBut9vdoNzc3p7GxMYMGDUrnzp1z2223VbbNmjUrzzzzTOrr65Mk9fX1eeSRRzJv3rxKn4aGhtTU1GTgwIGrOxUAAABod206o33KKafkgAMOyFZbbZWXXnopV111Ve68887ceuut6dmzZ4488siMGzcuvXv3Tk1NTY477rjU19dn6NChSZLhw4dn4MCBOeywwzJ58uTMmTMnp512WsaMGbPcM9YAAACwrmlT0J43b14+97nP5V//+ld69uyZ3XbbLbfeems++MEPJknOP//8dOjQIYccckgaGxszYsSIfP/736/s37Fjx9x444055phjUl9fn4022iijR4/OhAkTyl0VAAAAtJM2Be0f/ehHb7m9a9eumTJlSqZMmfKmffr371/KnWIBAABgbbTan9EGAAAA/h9BGwAAAEokaAMAAECJBG0AAAAokaANAAAAJRK0AQAAoESCNgAAAJRI0AYAAIASCdoAAABQIkEbAAAASiRoAwAAQIkEbQAAACiRoA0AAAAlErQBAACgRII2AAAAlEjQBgAAgBIJ2gAAAFAiQRsAAABKJGgDAABAiQRtAAAAKJGgDQAAACUStAEAAKBEgjYAAACUSNAGAACAEgnaAAAAUCJBGwAAAEokaAMAAECJBG0AAAAokaANAAAAJRK0AQAAoESCNgAAAJRI0AYAAIASCdoAAABQIkEbAAAASiRoAwAAQIkEbQAAACiRoA0AAAAlErQBAACgRII2AAAAlEjQBgAAgBIJ2gAAAFAiQRsAAABKJGgDAABAiQRtAAAAKJGgDQAAACUStAEAAKBEgjYAAACUSNAGAACAEgnaAAAAUCJBGwAAAEokaAMAAECJBG0AAAAokaANAAAAJRK0AQAAoESCNgAAAJRI0AYAAIASCdoAAABQIkEbAAAASiRoAwAAQIkEbQBgtZ1zzjmpqqrK2LFjK22vvfZaxowZk0033TQ9evTIIYcckrlz57ba75lnnsnIkSPTvXv39OnTJyeddFKWLFnSqs+dd96Zd7/73amurs52222XqVOnroEVAcCqE7QBgNXy4IMP5gc/+EF22223Vu0nnnhibrjhhlxzzTW566678txzz+Xggw+ubF+6dGlGjhyZxYsX5957780VV1yRqVOn5owzzqj0mT17dkaOHJkPfOADefjhhzN27Nh84QtfyK233rrG1gcAbdWpvScAAKy7Xn755YwaNSqXXXZZzj777Er7ggUL8qMf/ShXXXVV9ttvvyTJ5Zdfnp122in33Xdfhg4dmmnTpuWxxx7L7373u9TW1mb33XfPxIkTc/LJJ2f8+PHp0qVLLrnkkgwYMCDf+c53kiQ77bRT7rnnnpx//vkZMWLEcufU2NiYxsbGyuOFCxcmSZqamtLU1LTKa23Zt7pDscpjLG+89U3LutbX9ZVBjVaOOq2YGq2csurUlv0FbQBglY0ZMyYjR47MsGHDWgXtGTNmpKmpKcOGDau07bjjjtlqq60yffr0DB06NNOnT8+uu+6a2traSp8RI0bkmGOOycyZM7PHHntk+vTprcZo6fP6S9TfaNKkSTnrrLOWaZ82bVq6d+++Gqv9j4mDm1d7jCS5+eabSxlnbdXQ0NDeU1jrqdHKUacVU6OVs7p1WrRo0Ur3FbQBgFVy9dVX549//GMefPDBZbbNmTMnXbp0Sa9evVq119bWZs6cOZU+rw/ZLdtbtr1Vn4ULF+bVV19Nt27dlnnuU045JePGjas8XrhwYfr165fhw4enpqam7Qv9/zU1NaWhoSGnP9Qhjc1VqzxOi0fHL/+M/LqupU4f/OAH07lz5/aezlpJjVaOOq2YGq2csurUcoXUyhC0AYA2++c//5kTTjghDQ0N6dq1a3tPp5Xq6upUV1cv0965c+dSDkQbm6vSuHT1g/b6flBcVr3XZ2q0ctRpxdRo5axundqyr5uhAQBtNmPGjMybNy/vfve706lTp3Tq1Cl33XVXvve976VTp06pra3N4sWLM3/+/Fb7zZ07N3V1dUmSurq6Ze5C3vJ4RX1qamqWezYbANYGgjYA0Gb7779/HnnkkTz88MOVn8GDB2fUqFGVP3fu3Dm33XZbZZ9Zs2blmWeeSX19fZKkvr4+jzzySObNm1fp09DQkJqamgwcOLDS5/VjtPRpGQMA1kYuHQcA2mzjjTfOLrvs0qpto402yqabblppP/LIIzNu3Lj07t07NTU1Oe6441JfX5+hQ4cmSYYPH56BAwfmsMMOy+TJkzNnzpycdtppGTNmTOXS7y996Uu56KKL8rWvfS2f//znc/vtt+eXv/xlbrrppjW7YABoA0EbAHhbnH/++enQoUMOOeSQNDY2ZsSIEfn+979f2d6xY8fceOONOeaYY1JfX5+NNtooo0ePzoQJEyp9BgwYkJtuuiknnnhivvvd72bLLbfMD3/4wzf9ai8AWBsI2gBAKe68885Wj7t27ZopU6ZkypQpb7pP//79V/g1V/vuu2/+9Kc/lTFFAFgjfEYbAAAASiRoAwAAQIkEbQAAACiRoA0AAAAlErQBAACgRII2AAAAlEjQBgAAgBIJ2gAAAFAiQRsAAABKJGgDAABAiQRtAAAAKJGgDQAAACUStAEAAKBEgjYAAACUSNAGAACAEgnaAAAAUCJBGwAAAEokaAMAAECJBG0AAAAokaANAAAAJRK0AQAAoESCNgAAAJRI0AYAAIASCdoAAABQIkEbAAAASiRoAwAAQIkEbQAAACiRoA0AAAAlErQBAACgRII2AAAAlEjQBgAAgBIJ2gAAAFAiQRsAAABKJGgDAABAiQRtAAAAKJGgDQAAACUStAEAAKBEgjYAAACUSNAGAACAEgnaAAAAUCJBGwAAAEokaAMAAECJBG0AAAAokaANAAAAJRK0AQAAoESCNgAAAJRI0AYAAIASCdoAAABQojYF7UmTJuU973lPNt544/Tp0ycf+9jHMmvWrFZ9XnvttYwZMyabbrppevTokUMOOSRz585t1eeZZ57JyJEj07179/Tp0ycnnXRSlixZsvqrAQAAgHbWpqB91113ZcyYMbnvvvvS0NCQpqamDB8+PK+88kqlz4knnpgbbrgh11xzTe66664899xzOfjggyvbly5dmpEjR2bx4sW59957c8UVV2Tq1Kk544wzylsVAAAAtJNObel8yy23tHo8derU9OnTJzNmzMjee++dBQsW5Ec/+lGuuuqq7LfffkmSyy+/PDvttFPuu+++DB06NNOmTctjjz2W3/3ud6mtrc3uu++eiRMn5uSTT8748ePTpUuX8lYHAAAAa1ibgvYbLViwIEnSu3fvJMmMGTPS1NSUYcOGVfrsuOOO2WqrrTJ9+vQMHTo006dPz6677pra2tpKnxEjRuSYY47JzJkzs8ceeyzzPI2NjWlsbKw8XrhwYZKkqakpTU1Nqzz/ln2rOxSrPMa6rmXtarDh1mBDX3+iBsm6WYPVef8vcwwAgDda5aDd3NycsWPH5n3ve1922WWXJMmcOXPSpUuX9OrVq1Xf2trazJkzp9Ln9SG7ZXvLtuWZNGlSzjrrrGXap02blu7du6/qEiomDm5e7THWdWqgBhv6+hM1SNatGtx8882rPcaiRYtKmAkAQGurHLTHjBmTRx99NPfcc0+Z81muU045JePGjas8XrhwYfr165fhw4enpqZmlcdtampKQ0NDTn+oQxqbq8qY6jqnukORiYOb1WADrsGGvv5EDZJ1swaPjh+x2mO0XCEFAFCmVQraxx57bG688cbcfffd2XLLLSvtdXV1Wbx4cebPn9/qrPbcuXNTV1dX6fPAAw+0Gq/lruQtfd6ouro61dXVy7R37tw5nTt3XpUltNLYXJXGpevGgeXbRQ3UYENff6IGybpVgzLe/8sYAwDgjdp01/GiKHLsscfm2muvze23354BAwa02j5o0KB07tw5t912W6Vt1qxZeeaZZ1JfX58kqa+vzyOPPJJ58+ZV+jQ0NKSmpiYDBw5cnbUAAABAu2vTGe0xY8bkqquuym9+85tsvPHGlc9U9+zZM926dUvPnj1z5JFHZty4cendu3dqampy3HHHpb6+PkOHDk2SDB8+PAMHDsxhhx2WyZMnZ86cOTnttNMyZsyY5Z61BgAAgHVJm4L2xRdfnCTZd999W7VffvnlOfzww5Mk559/fjp06JBDDjkkjY2NGTFiRL7//e9X+nbs2DE33nhjjjnmmNTX12ejjTbK6NGjM2HChNVbCQAAAKwF2hS0i2LFX/vStWvXTJkyJVOmTHnTPv379y/lbrEAAACwtmnTZ7QBAACAtyZoAwAAQIkEbQAAACiRoA0AAAAlErQBAACgRII2AAAAlEjQBgAAgBIJ2gAAAFAiQRsAAABKJGgDAABAiQRtAAAAKJGgDQAAACUStAEAAKBEgjYAAACUSNAGAACAEgnaAAAAUCJBGwAAAEokaAMAAECJBG0AAAAokaANAAAAJRK0AQAAoESCNgAAAJRI0AYAAIASCdoAAABQIkEbAAAASiRoAwAAQIkEbQAAACiRoA0AAAAlErQBAACgRII2AAAAlEjQBgAAgBIJ2gAAAFAiQRsAAABKJGgDAABAiQRtAAAAKJGgDQAAACUStAEAAKBEgjYAAACUSNAGAACAEgnaAAAAUCJBGwAAAEokaAMAAECJBG0AAAAokaANAAAAJRK0AQAAoESCNgAAAJRI0AYAAIASCdoAAABQIkEbAAAASiRoAwAAQIkEbQAAACiRoA0AAAAlErQBAACgRII2AAAAlEjQBgAAgBIJ2gAAAFAiQRsAAABKJGgDAABAiQRtAAAAKJGgDQAAACUStAEAAKBEgjYAAACUSNAGAACAEgnaAAAAUCJBGwAAAEokaAMAAECJBG0AAAAokaANAAAAJRK0AQAAoESCNgAAAJRI0AYAAIASCdoAAABQIkEbAAAASiRoAwAAQIkEbQAAACiRoA0AAAAlErQBAACgRII2AAAAlEjQBgAAgBIJ2gAAAFAiQRsAAABKJGgDAABAiQRtAAAAKFGn9p4AAAAAvNHWX7+plHGqOxaZvGcpQ600Z7QBAACgRII2AAAAlEjQBgAAgBIJ2gAAAFAiQRsAaLNJkyblPe95TzbeeOP06dMnH/vYxzJr1qxWfV577bWMGTMmm266aXr06JFDDjkkc+fObdXnmWeeyciRI9O9e/f06dMnJ510UpYsWdKqz5133pl3v/vdqa6uznbbbZepU6e+3csDgNUiaAMAbXbXXXdlzJgxue+++9LQ0JCmpqYMHz48r7zySqXPiSeemBtuuCHXXHNN7rrrrjz33HM5+OCDK9uXLl2akSNHZvHixbn33ntzxRVXZOrUqTnjjDMqfWbPnp2RI0fmAx/4QB5++OGMHTs2X/jCF3Lrrbeu0fUCQFv4ei8AoM1uueWWVo+nTp2aPn36ZMaMGdl7772zYMGC/OhHP8pVV12V/fbbL0ly+eWXZ6eddsp9992XoUOHZtq0aXnsscfyu9/9LrW1tdl9990zceLEnHzyyRk/fny6dOmSSy65JAMGDMh3vvOdJMlOO+2Ue+65J+eff35GjBixxtcNACtD0AYAVtuCBQuSJL17906SzJgxI01NTRk2bFilz4477pitttoq06dPz9ChQzN9+vTsuuuuqa2trfQZMWJEjjnmmMycOTN77LFHpk+f3mqMlj5jx45907k0NjamsbGx8njhwoVJkqampjQ1Na3yGlv2re5QrPIYyxtvfdOyrvV1fWVQo5WjTiu2vteoumM577ct79urW6e27C9oAwCrpbm5OWPHjs373ve+7LLLLkmSOXPmpEuXLunVq1ervrW1tZkzZ06lz+tDdsv2lm1v1WfhwoV59dVX061bt2XmM2nSpJx11lnLtE+bNi3du3dftUW+zsTBzas9RpLcfPPNpYyztmpoaGjvKaz11GjlqNOKra81mrxnueOtbp0WLVq00n0FbQBgtYwZMyaPPvpo7rnnnvaeSpLklFNOybhx4yqPFy5cmH79+mX48OGpqalZ5XGbmprS0NCQ0x/qkMbmqtWe56Pj189L31vq9MEPfjCdO3du7+msldRo5ajTiq3vNdplfDn346juUGTi4ObVrlPLFVIrQ9AGAFbZsccemxtvvDF33313ttxyy0p7XV1dFi9enPnz57c6qz137tzU1dVV+jzwwAOtxmu5K/nr+7zxTuVz585NTU3Ncs9mJ0l1dXWqq6uXae/cuXMpB6KNzVVpXLr6QXt9PCh+vbLqvT5To5WjTiu2vtaojPfa11vdOrVlX3cdBwDarCiKHHvssbn22mtz++23Z8CAAa22Dxo0KJ07d85tt91WaZs1a1aeeeaZ1NfXJ0nq6+vzyCOPZN68eZU+DQ0NqampycCBAyt9Xj9GS5+WMQBgbeSMNgDQZmPGjMlVV12V3/zmN9l4440rn6nu2bNnunXrlp49e+bII4/MuHHj0rt379TU1OS4445LfX19hg4dmiQZPnx4Bg4cmMMOOyyTJ0/OnDlzctppp2XMmDGVM9Jf+tKXctFFF+VrX/taPv/5z+f222/PL3/5y9x0003ttnYAWBFntAGANrv44ouzYMGC7Lvvvtliiy0qP7/4xS8qfc4///x8+MMfziGHHJK99947dXV1+fWvf13Z3rFjx9x4443p2LFj6uvr89nPfjaf+9znMmHChEqfAQMG5KabbkpDQ0Pe9a535Tvf+U5++MMf+movANZqzmgDAG1WFCv+ypWuXbtmypQpmTJlypv26d+//wrvvr3vvvvmT3/6U5vnCADtxRltAAAAKJGgDQAAACUStAEAAKBEgjYAAACUSNAGAACAEgnaAAAAUCJBGwAAAEokaAMAAECJBG0AAAAokaANAAAAJRK0AQAAoESCNgAAAJRI0AYAAIASCdoAAABQIkEbAAAASiRoAwAAQIkEbQAAACiRoA0AAAAlErQBAACgRG0O2nfffXc+8pGPpG/fvqmqqsp1113XantRFDnjjDOyxRZbpFu3bhk2bFieeOKJVn1eeOGFjBo1KjU1NenVq1eOPPLIvPzyy6u1EAAAAFgbtDlov/LKK3nXu96VKVOmLHf75MmT873vfS+XXHJJ7r///my00UYZMWJEXnvttUqfUaNGZebMmWloaMiNN96Yu+++O0cdddSqrwIAAADWEp3ausMBBxyQAw44YLnbiqLIBRdckNNOOy0HHXRQkuQnP/lJamtrc9111+XQQw/N448/nltuuSUPPvhgBg8enCS58MILc+CBB+bcc89N3759lxm3sbExjY2NlccLFy5MkjQ1NaWpqamtS6ho2be6Q7HKY6zrWtauBhtuDTb09SdqkKybNVid9/8yxwAAeKM2B+23Mnv27MyZMyfDhg2rtPXs2TNDhgzJ9OnTc+ihh2b69Onp1atXJWQnybBhw9KhQ4fcf//9+fjHP77MuJMmTcpZZ521TPu0adPSvXv31Z73xMHNqz3Guk4N1GBDX3+iBsm6VYObb755tcdYtGhRCTMBAGit1KA9Z86cJEltbW2r9tra2sq2OXPmpE+fPq0n0alTevfuXenzRqecckrGjRtXebxw4cL069cvw4cPT01NzSrPt6mpKQ0NDTn9oQ5pbK5a5XHWZdUdikwc3KwGG3ANNvT1J2qQrJs1eHT8iNUeo+UKKQCAMpUatN8u1dXVqa6uXqa9c+fO6dy582qP39hclcal68aB5dtFDdRgQ19/ogbJulWDMt7/yxgDAOCNSv16r7q6uiTJ3LlzW7XPnTu3sq2uri7z5s1rtX3JkiV54YUXKn0AAABgXVVq0B4wYEDq6upy2223VdoWLlyY+++/P/X19UmS+vr6zJ8/PzNmzKj0uf3229Pc3JwhQ4aUOR0AAABY49p86fjLL7+cJ598svJ49uzZefjhh9O7d+9stdVWGTt2bM4+++xsv/32GTBgQE4//fT07ds3H/vYx5IkO+20Uz70oQ/li1/8Yi655JI0NTXl2GOPzaGHHrrcO44DAADAuqTNQfuhhx7KBz7wgcrjlpuUjR49OlOnTs3Xvva1vPLKKznqqKMyf/787LXXXrnlllvStWvXyj5XXnlljj322Oy///7p0KFDDjnkkHzve98rYTkAAADQvtoctPfdd98UxZt/z2pVVVUmTJiQCRMmvGmf3r1756qrrmrrUwMAAMBar9TPaAMAAMCGTtAGAACAEgnaAAAAUCJBGwAAAEokaAMAAECJBG0AAAAokaANAAAAJRK0AQAAoESCNgAAAJRI0AYAAIASCdoAAABQIkEbAAAASiRoAwAAQIkEbQAAACiRoA0AAAAlErQBAACgRII2AAAAlEjQBgAAgBIJ2gAAAFAiQRsAAABKJGgDAABAiQRtAAAAKJGgDQAAACUStAEAAKBEgjYAAACUSNAGAACAEgnaAAAAUCJBGwAAAEokaAMAAECJBG0AAAAokaANAAAAJRK0AQAAoESCNgAAAJRI0AYAAIASCdoAAABQIkEbAAAASiRoAwAAQIkEbQAAACiRoA0AAAAlErQBAACgRII2AAAAlEjQBgAAgBIJ2gAAAFAiQRsAAABKJGgDAABAiQRtAAAAKJGgDQAAACUStAEAAKBEgjYAAACUSNAGAACAEgnaAAAAUCJBGwAAAEokaAMAAECJBG0AAAAokaANAAAAJRK0AQAAoESCNgAAAJRI0AYAAIASCdoAAABQIkEbAAAASiRoAwAAQIkEbQAAACiRoA0AAAAlErQBAACgRII2AAAAlEjQBgAAgBIJ2gAAAFAiQRsAAABKJGgDAABAiQRtAAAAKJGgDQAAACUStAEAAKBEgjYAAACUSNAGAACAEgnaAAAAUCJBGwAAAEokaAMAAECJBG0AAAAokaANAAAAJRK0AQAAoESCNgAAAJRI0AYAAIASCdoAAABQIkEbAAAASiRoAwAAQIkEbQAAACiRoA0AAAAlErQBAACgRII2AAAAlEjQBgAAgBIJ2gAAAFAiQRsAAABKJGgDAABAiQRtAAAAKJGgDQAAACUStAEAAKBEgjYAAACUSNAGAACAEgnaAAAAUCJBGwAAAEokaAMAAECJBG0AAAAokaANAAAAJRK0AQAAoESCNgAAAJRI0AYAAIASCdoAAABQIkEbAAAASiRoAwAAQIkEbQAAACiRoA0AAAAlErQBAACgRII2AAAAlEjQBgAAgBIJ2gAAAFAiQRsAAABKJGgDAABAiQRtAAAAKFG7Bu0pU6Zk6623TteuXTNkyJA88MAD7TkdAGAt5ZgBgHVJuwXtX/ziFxk3blzOPPPM/PGPf8y73vWujBgxIvPmzWuvKQEAayHHDACsazq11xOfd955+eIXv5gjjjgiSXLJJZfkpptuyo9//ON8/etfb9W3sbExjY2NlccLFixIkrzwwgtpampa5Tk0NTVl0aJF6dTUIUubq1Z5nHVZp+YiixY1q8EGXIMNff2JGiTrZg3+/e9/r/YYL730UpKkKIrVHou3T1uOGZJ157ihjNfw2qilTv/+97/TuXPn9p7OWkmNVo46rdj6XqNOS14pZ5z//zhndevUpuOGoh00NjYWHTt2LK699tpW7Z/73OeKj370o8v0P/PMM4skfvz48ePHz9vy889//nMN/QtIW7X1mKEoHDf48ePHj5+392dljhva5Yz2888/n6VLl6a2trZVe21tbf76178u0/+UU07JuHHjKo+bm5vzwgsvZNNNN01V1ar/H+WFCxemX79++ec//5mamppVHmddpgZqsKGvP1GDZMOtQVEUeemll9K3b9/2ngpvoq3HDInjhvamTiumRitHnVZMjVZOWXVqy3FDu1063hbV1dWprq5u1darV6/Sxq+pqdngX5hqoAYb+voTNUg2zBr07NmzvadAyRw3rB3UacXUaOWo04qp0copo04re9zQLjdD22yzzdKxY8fMnTu3VfvcuXNTV1fXHlMCANZCjhkAWBe1S9Du0qVLBg0alNtuu63S1tzcnNtuuy319fXtMSUAYC3kmAGAdVG7XTo+bty4jB49OoMHD86ee+6ZCy64IK+88krljqJrQnV1dc4888xlLi/bkKiBGmzo60/UIFED1m5rwzFD4u/JylKnFVOjlaNOK6ZGK6c96lRVFO33nSYXXXRRvv3tb2fOnDnZfffd873vfS9Dhgxpr+kAAGspxwwArEvaNWgDAADA+qZdPqMNAAAA6ytBGwAAAEokaAMAAECJBG0AAAAo0QYdtKdMmZKtt946Xbt2zZAhQ/LAAw+095RWyaRJk/Ke97wnG2+8cfr06ZOPfexjmTVrVqs+r732WsaMGZNNN900PXr0yCGHHJK5c+e26vPMM89k5MiR6d69e/r06ZOTTjopS5YsadXnzjvvzLvf/e5UV1dnu+22y9SpU9/u5bXZOeeck6qqqowdO7bStiGs/9lnn81nP/vZbLrppunWrVt23XXXPPTQQ5XtRVHkjDPOyBZbbJFu3bpl2LBheeKJJ1qN8cILL2TUqFGpqalJr169cuSRR+bll19u1ecvf/lL3v/+96dr167p169fJk+evEbWtyJLly7N6aefngEDBqRbt27ZdtttM3HixLz+fo/rUw3uvvvufOQjH0nfvn1TVVWV6667rtX2NbnWa665JjvuuGO6du2aXXfdNTfffHPp64U1pa3HBhvq678tdbrsssvy/ve/P5tsskk22WSTDBs2bJ095mqLVT3OvPrqq1NVVZWPfexjb+8E1xJtrdP8+fMzZsyYbLHFFqmurs473/nO9f7vXVtrdMEFF2SHHXZIt27d0q9fv5x44ol57bXX1tBs17wVHRMtzxo5pi82UFdffXXRpUuX4sc//nExc+bM4otf/GLRq1evYu7cue09tTYbMWJEcfnllxePPvpo8fDDDxcHHnhgsdVWWxUvv/xypc+XvvSlol+/fsVtt91WPPTQQ8XQoUOL9773vZXtS5YsKXbZZZdi2LBhxZ/+9Kfi5ptvLjbbbLPilFNOqfR56qmniu7duxfjxo0rHnvsseLCCy8sOnbsWNxyyy1rdL1v5YEHHii23nrrYrfdditOOOGESvv6vv4XXnih6N+/f3H44YcX999/f/HUU08Vt956a/Hkk09W+pxzzjlFz549i+uuu67485//XHz0ox8tBgwYULz66quVPh/60IeKd73rXcV9991X/P73vy+222674tOf/nRl+4IFC4ra2tpi1KhRxaOPPlr8/Oc/L7p161b84Ac/WKPrXZ5vfOMbxaabblrceOONxezZs4trrrmm6NGjR/Hd73630md9qsHNN99cnHrqqcWvf/3rIklx7bXXttq+ptb6hz/8oejYsWMxefLk4rHHHitOO+20onPnzsUjjzzyttcAytbWY4MN9fXf1jp95jOfKaZMmVL86U9/Kh5//PHi8MMPL3r27Fn87//+7xqe+ZqzqseZs2fPLt7xjncU73//+4uDDjpozUy2HbW1To2NjcXgwYOLAw88sLjnnnuK2bNnF3feeWfx8MMPr+GZrzltrdGVV15ZVFdXF1deeWUxe/bs4tZbby222GKL4sQTT1zDM19zVnRM9EZr6ph+gw3ae+65ZzFmzJjK46VLlxZ9+/YtJk2a1I6zKse8efOKJMVdd91VFEVRzJ8/v+jcuXNxzTXXVPo8/vjjRZJi+vTpRVH85wXaoUOHYs6cOZU+F198cVFTU1M0NjYWRVEUX/va14qdd9651XN96lOfKkaMGPF2L2mlvPTSS8X2229fNDQ0FPvss08laG8I6z/55JOLvfba6023Nzc3F3V1dcW3v/3tStv8+fOL6urq4uc//3lRFEXx2GOPFUmKBx98sNLnt7/9bVFVVVU8++yzRVEUxfe///1ik002qdSk5bl32GGHspfUZiNHjiw+//nPt2o7+OCDi1GjRhVFsX7X4I3/qKzJtX7yk58sRo4c2Wo+Q4YMKY4++uhS1whrQluPDTbU1//qHkMtWbKk2HjjjYsrrrji7Zpiu1uVGi1ZsqR473vfW/zwhz8sRo8evUEE7bbW6eKLLy622WabYvHixWtqiu2urTUaM2ZMsd9++7VqGzduXPG+973vbZ3n2mJlgvaaOqbfIC8dX7x4cWbMmJFhw4ZV2jp06JBhw4Zl+vTp7TizcixYsCBJ0rt37yTJjBkz0tTU1Gq9O+64Y7baaqvKeqdPn55dd901tbW1lT4jRozIwoULM3PmzEqf14/R0mdtqdmYMWMycuTIZea4Iaz/+uuvz+DBg/OJT3wiffr0yR577JHLLrussn327NmZM2dOq/n37NkzQ4YMaVWDXr16ZfDgwZU+w4YNS4cOHXL//fdX+uy9997p0qVLpc+IESMya9asvPjii2/3Mt/Se9/73tx2223529/+liT585//nHvuuScHHHBAkg2jBi3W5FrX5r8X0BarcmywIb7+yziGWrRoUZqamirHKeubVa3RhAkT0qdPnxx55JFrYprtblXqdP3116e+vj5jxoxJbW1tdtlll3zzm9/M0qVL19S016hVqdF73/vezJgxo3J5+VNPPZWbb745Bx544BqZ87pgTb13dyp1tHXE888/n6VLl7YKVUlSW1ubv/71r+00q3I0Nzdn7Nixed/73pdddtklSTJnzpx06dIlvXr1atW3trY2c+bMqfRZXj1atr1Vn4ULF+bVV19Nt27d3o4lrZSrr746f/zjH/Pggw8us21DWP9TTz2Viy++OOPGjct///d/58EHH8zxxx+fLl26ZPTo0ZU1LG/+r19fnz59Wm3v1KlTevfu3arPgAEDlhmjZdsmm2zytqxvZXz961/PwoULs+OOO6Zjx45ZunRpvvGNb2TUqFGV+b1+vi3Wpxq0WJNrfbO/Fy1jwLpiVY4NNsTXfxnHUCeffHL69u27zIHu+mJVanTPPffkRz/6UR5++OE1MMO1w6rU6amnnsrtt9+eUaNG5eabb86TTz6ZL3/5y2lqasqZZ565Jqa9Rq1KjT7zmc/k+eefz1577ZWiKLJkyZJ86Utfyn//93+viSmvE9bUMf0GGbTXZ2PGjMmjjz6ae+65p72nssb885//zAknnJCGhoZ07dq1vafTLpqbmzN48OB885vfTJLsscceefTRR3PJJZdk9OjR7Ty7NeOXv/xlrrzyylx11VXZeeed8/DDD2fs2LHp27fvBlMDgLXdOeeck6uvvjp33nnnBvtv9hu99NJLOeyww3LZZZdls802a+/prNWam5vTp0+fXHrppenYsWMGDRqUZ599Nt/+9rfXy6C9Ku68885885vfzPe///0MGTIkTz75ZE444YRMnDgxp59+entPb4OyQQbtzTbbLB07dlzmrtNz585NXV1dO81q9R177LG58cYbc/fdd2fLLbestNfV1WXx4sWZP39+q7O6r19vXV3dMncwbKnP6/ssr2Y1NTXtejZ3xowZmTdvXt797ndX2pYuXZq77747F110UW699db1ev1JssUWW2TgwIGt2nbaaaf8z//8T5L/t4a5c+dmiy22qPSZO3dudt9990qfefPmtRpjyZIleeGFF1ZYg9c/R3s56aST8vWvfz2HHnpokmTXXXfN008/nUmTJmX06NEbRA1arMm1vlmftaUWsLJW5dhgQ3z9r84x1Lnnnptzzjknv/vd77Lbbru9ndNsV22t0d///vf84x//yEc+8pFKW3Nzc5L/XGk0a9asbLvttm/vpNvBqryWtthii3Tu3DkdO3astO20006ZM2dOFi9e3OqjTuuDVanR6aefnsMOOyxf+MIXkvzneOiVV17JUUcdlVNPPTUdOmyQnxxuZU0d02+Qle7SpUsGDRqU2267rdLW3Nyc2267LfX19e04s1VTFEWOPfbYXHvttbn99tuXudRz0KBB6dy5c6v1zpo1K88880xlvfX19XnkkUdaHXg3NDSkpqamEuDq6+tbjdHSp71rtv/+++eRRx7Jww8/XPkZPHhwRo0aVfnz+rz+JHnf+963zFe6/e1vf0v//v2TJAMGDEhdXV2r+S9cuDD3339/qxrMnz8/M2bMqPS5/fbb09zcnCFDhlT63H333Wlqaqr0aWhoyA477NDul0wvWrRomX88OnbsWDlY2RBq0GJNrnVt/nsBbbEqxwYb4ut/VY+hJk+enIkTJ+aWW25pdW+I9VFba7Tjjjsucxzz0Y9+NB/4wAfy8MMPp1+/fmty+mvMqryW3ve+9+XJJ5+s/Nue/Od4Z4sttljvQnayajV6s+OhJK2+8nRDtsbeu0u9tdo65Oqrry6qq6uLqVOnFo899lhx1FFHFb169Wp11+l1xTHHHFP07NmzuPPOO4t//etflZ9FixZV+nzpS18qttpqq+L2228vHnrooaK+vr6or6+vbG/5eqvhw4cXDz/8cHHLLbcUm2+++XK/3uqkk04qHn/88WLKlClrzddbvdHr7zpeFOv/+h944IGiU6dOxTe+8Y3iiSeeKK688sqie/fuxc9+9rNKn3POOafo1atX8Zvf/Kb4y1/+Uhx00EHL/bqnPfbYo7j//vuLe+65p9h+++1bfd3T/Pnzi9ra2uKwww4rHn300eLqq68uunfvvlZ8vdfo0aOLd7zjHZWv9/r1r39dbLbZZsXXvva1Sp/1qQYvvfRS8ac//an405/+VCQpzjvvvOJPf/pT8fTTT6/Rtf7hD38oOnXqVJx77rnF448/Xpx55pkbxNcbsX5a0bHBYYcdVnz961+v9N9QX/9trdM555xTdOnSpfjVr37V6jjlpZdeaq8lvO3aWqM32lDuOt7WOj3zzDPFxhtvXBx77LHFrFmzihtvvLHo06dPcfbZZ7fXEt52ba3RmWeeWWy88cbFz3/+8+Kpp54qpk2bVmy77bbFJz/5yfZawttuRcdEX//614vDDjus0n9NHdNvsEG7KIriwgsvLLbaaquiS5cuxZ577lncd9997T2lVZJkuT+XX355pc+rr75afPnLXy422WSTonv37sXHP/7x4l//+lercf7xj38UBxxwQNGtW7dis802K77yla8UTU1Nrfrccccdxe6771506dKl2GabbVo9x9rkjUF7Q1j/DTfcUOyyyy5FdXV1seOOOxaXXnppq+3Nzc3F6aefXtTW1hbV1dXF/vvvX8yaNatVn3//+9/Fpz/96aJHjx5FTU1NccQRRyxzIPTnP/+52GuvvYrq6uriHe94R3HOOee87WtbGQsXLixOOOGEYquttiq6du1abLPNNsWpp57a6qup1qca3HHHHcv9ez969OiiKNbsWn/5y18W73znO4suXboUO++8c3HTTTe9beuGt9tbHRvss88+lb9jLTbU139b6tS/f//lvl+deeaZa37ia1BbX0uvt6EE7aJoe53uvffeYsiQIUV1dXWxzTbbFN/4xjeKJUuWrOFZr1ltqVFTU1Mxfvz4Ytttty26du1a9OvXr/jyl79cvPjii2t+4mvIio6JRo8eXeyzzz7L7PN2H9NXFYVrCAAAAKAsG+RntAEAAODtImgDAABAiQRtAAAAKJGgDQAAACUStAEAAKBEgjYAAACUSNAGAACAEgnaAAAAUCJBGwAAAEokaAMAAECJBG0AAAAo0f8HSxBTYj6sV/EAAAAASUVORK5CYII=\n"
                },
                "metadata": {}
              }
            ]
          }
        },
        "c689689091e94e3aabec835da08140f2": {
          "model_module": "@jupyter-widgets/base",
          "model_name": "LayoutModel",
          "model_module_version": "1.2.0",
          "state": {
            "_model_module": "@jupyter-widgets/base",
            "_model_module_version": "1.2.0",
            "_model_name": "LayoutModel",
            "_view_count": null,
            "_view_module": "@jupyter-widgets/base",
            "_view_module_version": "1.2.0",
            "_view_name": "LayoutView",
            "align_content": null,
            "align_items": null,
            "align_self": null,
            "border": null,
            "bottom": null,
            "display": null,
            "flex": null,
            "flex_flow": null,
            "grid_area": null,
            "grid_auto_columns": null,
            "grid_auto_flow": null,
            "grid_auto_rows": null,
            "grid_column": null,
            "grid_gap": null,
            "grid_row": null,
            "grid_template_areas": null,
            "grid_template_columns": null,
            "grid_template_rows": null,
            "height": null,
            "justify_content": null,
            "justify_items": null,
            "left": null,
            "margin": null,
            "max_height": null,
            "max_width": null,
            "min_height": null,
            "min_width": null,
            "object_fit": null,
            "object_position": null,
            "order": null,
            "overflow": null,
            "overflow_x": null,
            "overflow_y": null,
            "padding": null,
            "right": null,
            "top": null,
            "visibility": null,
            "width": null
          }
        },
        "cfc657e7f6e04a0fae573fe9cb036577": {
          "model_module": "@jupyter-widgets/output",
          "model_name": "OutputModel",
          "model_module_version": "1.0.0",
          "state": {
            "_dom_classes": [],
            "_model_module": "@jupyter-widgets/output",
            "_model_module_version": "1.0.0",
            "_model_name": "OutputModel",
            "_view_count": null,
            "_view_module": "@jupyter-widgets/output",
            "_view_module_version": "1.0.0",
            "_view_name": "OutputView",
            "layout": "IPY_MODEL_12a5923dbaff4dbab257fdb74fda3cf6",
            "msg_id": "",
            "outputs": []
          }
        },
        "12a5923dbaff4dbab257fdb74fda3cf6": {
          "model_module": "@jupyter-widgets/base",
          "model_name": "LayoutModel",
          "model_module_version": "1.2.0",
          "state": {
            "_model_module": "@jupyter-widgets/base",
            "_model_module_version": "1.2.0",
            "_model_name": "LayoutModel",
            "_view_count": null,
            "_view_module": "@jupyter-widgets/base",
            "_view_module_version": "1.2.0",
            "_view_name": "LayoutView",
            "align_content": null,
            "align_items": null,
            "align_self": null,
            "border": null,
            "bottom": null,
            "display": null,
            "flex": null,
            "flex_flow": null,
            "grid_area": null,
            "grid_auto_columns": null,
            "grid_auto_flow": null,
            "grid_auto_rows": null,
            "grid_column": null,
            "grid_gap": null,
            "grid_row": null,
            "grid_template_areas": null,
            "grid_template_columns": null,
            "grid_template_rows": null,
            "height": null,
            "justify_content": null,
            "justify_items": null,
            "left": null,
            "margin": null,
            "max_height": null,
            "max_width": null,
            "min_height": null,
            "min_width": null,
            "object_fit": null,
            "object_position": null,
            "order": null,
            "overflow": null,
            "overflow_x": null,
            "overflow_y": null,
            "padding": null,
            "right": null,
            "top": null,
            "visibility": null,
            "width": null
          }
        }
      }
    }
  },
  "cells": [
    {
      "cell_type": "markdown",
      "metadata": {
        "id": "view-in-github",
        "colab_type": "text"
      },
      "source": [
        "<a href=\"https://colab.research.google.com/github/Naumann07/DataSight/blob/main/finalexam.ipynb\" target=\"_parent\"><img src=\"https://colab.research.google.com/assets/colab-badge.svg\" alt=\"Open In Colab\"/></a>"
      ]
    },
    {
      "cell_type": "code",
      "source": [
        "import pandas as pd\n",
        "import matplotlib.pyplot as plt\n",
        "import seaborn as sns\n",
        "import ipywidgets as widgets\n",
        "from IPython.display import display\n",
        "\n",
        "def load_dataset(file_content):\n",
        "    import io\n",
        "    return pd.read_csv(io.BytesIO(file_content))\n",
        "\n",
        "def display_basic_insights(data):\n",
        "    def show_summary_stats(_):\n",
        "        with output_summary_stats:\n",
        "            output_summary_stats.clear_output()\n",
        "            print(\"Summary Statistics:\")\n",
        "            print(data.describe())\n",
        "\n",
        "    def show_value_counts(change):\n",
        "        with output_value_counts:\n",
        "            output_value_counts.clear_output()\n",
        "            column = change['new']\n",
        "            value_counts = data[column].value_counts()\n",
        "            print(f\"Value Counts for {column}:\\n{value_counts}\")\n",
        "\n",
        "    def plot_histograms(_):\n",
        "        with output_histograms:\n",
        "            output_histograms.clear_output()\n",
        "            numerical_columns = data.select_dtypes(include=['int', 'float']).columns\n",
        "            data[numerical_columns].hist(bins=20, figsize=(12, 10))\n",
        "            plt.suptitle(\"Histograms of Numerical Columns\")\n",
        "            plt.show()\n",
        "\n",
        "    output_summary_stats = widgets.Output()\n",
        "    output_value_counts = widgets.Output()\n",
        "    output_histograms = widgets.Output()\n",
        "\n",
        "    button_summary_stats = widgets.Button(description=\"Show Summary Statistics\")\n",
        "    button_histograms = widgets.Button(description=\"Plot Histograms\")\n",
        "\n",
        "    dropdown_value_counts = widgets.Dropdown(options=data.columns, description=\"Column:\")\n",
        "\n",
        "    button_summary_stats.on_click(show_summary_stats)\n",
        "    button_histograms.on_click(plot_histograms)\n",
        "    dropdown_value_counts.observe(show_value_counts, names='value')\n",
        "\n",
        "    display(button_summary_stats)\n",
        "    display(button_histograms)\n",
        "    display(dropdown_value_counts)\n",
        "\n",
        "    display(output_summary_stats)\n",
        "    display(output_histograms)\n",
        "    display(output_value_counts)\n",
        "\n",
        "\n",
        "def on_upload_change(change):\n",
        "    uploaded_file = list(upload.value.values())[0]\n",
        "    data = load_dataset(uploaded_file['content'])\n",
        "    display_basic_insights(data)\n",
        "\n",
        "\n",
        "# Create a file upload widget\n",
        "upload = widgets.FileUpload(accept='.csv', multiple=False)\n",
        "upload.observe(on_upload_change, names='value')\n",
        "\n",
        "display(upload)\n"
      ],
      "metadata": {
        "colab": {
          "base_uri": "https://localhost:8080/",
          "height": 1000,
          "referenced_widgets": [
            "b113e62b6f274a679f0694d4443a0358",
            "ec107d6fe00b4335bb86358aebc282f0",
            "0fb0d0f576fa429fa2be8b7f1b344e25",
            "7156b22b358947abb75cfb6ec54d855f",
            "9825737f09ed44b087c1799f2e0cba2e",
            "b22af946815041bd82091fece6de7765",
            "1667f83bef4246d79becfc1e5ea8b6da",
            "be9c5c5e42e843fa9c679fc9aefc0ff5",
            "d8a95fc6094041ee925238de4ea35a3d",
            "6e72c3085c4f4a5693a9fd51d5f81aaa",
            "80b6b934ae4542a48f43e5d471c0bfc0",
            "008570c027b04bc7bc277b8cba7b0cc8",
            "1110ae8a32714705bcc0050e8566fdf2",
            "e6a6bf0ce6b342fda4d85c170f8cc55e",
            "cd5bca15c27e4f94a32fd716285ef1aa",
            "c689689091e94e3aabec835da08140f2",
            "cfc657e7f6e04a0fae573fe9cb036577",
            "12a5923dbaff4dbab257fdb74fda3cf6"
          ]
        },
        "id": "k5kH2mqmA2rf",
        "outputId": "fcf2c581-def9-4d77-ce47-3029c6663013"
      },
      "execution_count": 11,
      "outputs": [
        {
          "output_type": "display_data",
          "data": {
            "text/plain": [
              "FileUpload(value={}, accept='.csv', description='Upload')"
            ],
            "application/vnd.jupyter.widget-view+json": {
              "version_major": 2,
              "version_minor": 0,
              "model_id": "b113e62b6f274a679f0694d4443a0358"
            }
          },
          "metadata": {}
        },
        {
          "output_type": "display_data",
          "data": {
            "text/plain": [
              "Button(description='Show Summary Statistics', style=ButtonStyle())"
            ],
            "application/vnd.jupyter.widget-view+json": {
              "version_major": 2,
              "version_minor": 0,
              "model_id": "7156b22b358947abb75cfb6ec54d855f"
            }
          },
          "metadata": {}
        },
        {
          "output_type": "display_data",
          "data": {
            "text/plain": [
              "Button(description='Plot Histograms', style=ButtonStyle())"
            ],
            "application/vnd.jupyter.widget-view+json": {
              "version_major": 2,
              "version_minor": 0,
              "model_id": "1667f83bef4246d79becfc1e5ea8b6da"
            }
          },
          "metadata": {}
        },
        {
          "output_type": "display_data",
          "data": {
            "text/plain": [
              "Dropdown(description='Column:', options=('id', 'keyword', 'location', 'text', 'target'), value='id')"
            ],
            "application/vnd.jupyter.widget-view+json": {
              "version_major": 2,
              "version_minor": 0,
              "model_id": "6e72c3085c4f4a5693a9fd51d5f81aaa"
            }
          },
          "metadata": {}
        },
        {
          "output_type": "display_data",
          "data": {
            "text/plain": [
              "Output()"
            ],
            "application/vnd.jupyter.widget-view+json": {
              "version_major": 2,
              "version_minor": 0,
              "model_id": "1110ae8a32714705bcc0050e8566fdf2"
            }
          },
          "metadata": {}
        },
        {
          "output_type": "display_data",
          "data": {
            "text/plain": [
              "Output()"
            ],
            "application/vnd.jupyter.widget-view+json": {
              "version_major": 2,
              "version_minor": 0,
              "model_id": "cd5bca15c27e4f94a32fd716285ef1aa"
            }
          },
          "metadata": {}
        },
        {
          "output_type": "display_data",
          "data": {
            "text/plain": [
              "Output()"
            ],
            "application/vnd.jupyter.widget-view+json": {
              "version_major": 2,
              "version_minor": 0,
              "model_id": "cfc657e7f6e04a0fae573fe9cb036577"
            }
          },
          "metadata": {}
        }
      ]
    },
    {
      "cell_type": "code",
      "source": [],
      "metadata": {
        "id": "TJwLjA30BTjY"
      },
      "execution_count": null,
      "outputs": []
    }
  ]
}